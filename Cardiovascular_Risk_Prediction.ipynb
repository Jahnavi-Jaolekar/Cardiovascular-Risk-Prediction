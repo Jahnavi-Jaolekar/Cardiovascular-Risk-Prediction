{
  "nbformat": 4,
  "nbformat_minor": 0,
  "metadata": {
    "colab": {
      "provenance": [],
      "collapsed_sections": [
        "vncDsAP0Gaoa",
        "FJNUwmbgGyua",
        "w6K7xa23Elo4",
        "yQaldy8SH6Dl",
        "mDgbUHAGgjLW",
        "O_i_v8NEhb9l",
        "HhfV-JJviCcP",
        "Y3lxredqlCYt",
        "3RnN4peoiCZX",
        "x71ZqKXriCWQ",
        "7hBIi_osiCS2",
        "JlHwYmJAmNHm",
        "35m5QtbWiB9F",
        "PoPl-ycgm1ru",
        "H0kj-8xxnORC",
        "nA9Y7ga8ng1Z",
        "PBTbrJXOngz2",
        "u3PMJOP6ngxN",
        "dauF4eBmngu3",
        "bKJF3rekwFvQ",
        "MSa1f5Uengrz",
        "GF8Ens_Soomf",
        "0wOQAZs5pc--",
        "K5QZ13OEpz2H",
        "lQ7QKXXCp7Bj",
        "448CDAPjqfQr",
        "KSlN3yHqYklG",
        "t6dVpIINYklI",
        "ijmpgYnKYklI",
        "-JiQyfWJYklI",
        "EM7whBJCYoAo",
        "fge-S5ZAYoAp",
        "85gYPyotYoAp",
        "RoGjAbkUYoAp",
        "4Of9eVA-YrdM",
        "iky9q4vBYrdO",
        "F6T5p64dYrdO",
        "y-Ehk30pYrdP",
        "bamQiAODYuh1",
        "QHF8YVU7Yuh3",
        "GwzvFGzlYuh3",
        "qYpmQ266Yuh3",
        "OH-pJp9IphqM",
        "bbFf2-_FphqN",
        "_ouA3fa0phqN",
        "Seke61FWphqN",
        "PIIx-8_IphqN",
        "t27r6nlMphqO",
        "r2jJGEOYphqO",
        "b0JNsNcRphqO",
        "BZR9WyysphqO",
        "jj7wYXLtphqO",
        "eZrbJ2SmphqO",
        "rFu4xreNphqO",
        "YJ55k-q6phqO",
        "gCFgpxoyphqP",
        "OVtJsKN_phqQ",
        "lssrdh5qphqQ",
        "U2RJ9gkRphqQ",
        "1M8mcRywphqQ",
        "tgIPom80phqQ",
        "JMzcOPDDphqR",
        "x-EpHcCOp1ci",
        "X_VqEhTip1ck",
        "8zGJKyg5p1ck",
        "PVzmfK_Ep1ck",
        "n3dbpmDWp1ck",
        "ylSl6qgtp1ck",
        "ZWILFDl5p1ck",
        "M7G43BXep1ck",
        "Ag9LCva-p1cl",
        "E6MkPsBcp1cl",
        "2cELzS2fp1cl",
        "3MPXvC8up1cl",
        "NC_X3p0fY2L0",
        "UV0SzAkaZNRQ",
        "YPEH6qLeZNRQ",
        "q29F0dvdveiT",
        "EXh0U9oCveiU",
        "22aHeOlLveiV",
        "g-ATYxFrGrvw",
        "Yfr_Vlr8HBkt",
        "8yEUt7NnHlrM",
        "tEA2Xm5dHt1r",
        "I79__PHVH19G",
        "Ou-I18pAyIpj",
        "fF3858GYyt-u",
        "4_0_7-oCpUZd",
        "hwyV_J3ipUZe",
        "3yB-zSqbpUZe",
        "dEUvejAfpUZe",
        "Fd15vwWVpUZf",
        "bn_IUdTipZyH",
        "49K5P_iCpZyH",
        "Nff-vKELpZyI",
        "kLW572S8pZyI",
        "dWbDXHzopZyI",
        "yLjJCtPM0KBk",
        "xiyOF9F70UgQ",
        "7wuGOrhz0itI",
        "id1riN9m0vUs",
        "578E2V7j08f6",
        "89xtkJwZ18nB",
        "67NQN5KX2AMe",
        "Iwf50b-R2tYG",
        "GMQiZwjn3iu7",
        "WVIkgGqN3qsr",
        "XkPnILGE3zoT",
        "Hlsf0x5436Go",
        "mT9DMSJo4nBL",
        "c49ITxTc407N",
        "OeJFEK0N496M",
        "9ExmJH0g5HBk",
        "cJNqERVU536h",
        "k5UmGsbsOxih",
        "T0VqWOYE6DLQ",
        "qBMux9mC6MCf",
        "-oLEiFgy-5Pf",
        "C74aWNz2AliB",
        "2DejudWSA-a0",
        "pEMng2IbBLp7",
        "rAdphbQ9Bhjc",
        "TNVZ9zx19K6k",
        "nqoHp30x9hH9",
        "rMDnDkt2B6du",
        "yiiVWRdJDDil",
        "1UUpS68QDMuG",
        "kexQrXU-DjzY",
        "T5CmagL3EC8N",
        "BhH2vgX9EjGr",
        "qjKvONjwE8ra",
        "P1XJ9OREExlT",
        "VFOzZv6IFROw",
        "TIqpNgepFxVj",
        "VfCC591jGiD4",
        "OB4l2ZhMeS1U",
        "ArJBuiUVfxKd",
        "4qY1EAkEfxKe",
        "PiV4Ypx8fxKe",
        "TfvqoZmBfxKf",
        "dJ2tPlVmpsJ0",
        "JWYfwnehpsJ1",
        "-jK_YjpMpsJ2",
        "HAih1iBOpsJ2",
        "zVGeBEFhpsJ2",
        "bmKjuQ-FpsJ3",
        "Fze-IPXLpx6K",
        "7AN1z2sKpx6M",
        "9PIHJqyupx6M",
        "_-qAgymDpx6N",
        "Z-hykwinpx6N",
        "h_CCil-SKHpo",
        "cBFFvTBNJzUa",
        "HvGl1hHyA_VK",
        "EyNgTHvd2WFk",
        "KH5McJBi2d8v",
        "iW_Lq9qf2h6X",
        "-Kee-DAl2viO",
        "gCX9965dhzqZ",
        "gIfDvo9L0UH2"
      ],
      "include_colab_link": true
    },
    "kernelspec": {
      "name": "python3",
      "display_name": "Python 3"
    },
    "language_info": {
      "name": "python"
    },
    "accelerator": "GPU",
    "gpuClass": "standard"
  },
  "cells": [
    {
      "cell_type": "markdown",
      "metadata": {
        "id": "view-in-github",
        "colab_type": "text"
      },
      "source": [
        "<a href=\"https://colab.research.google.com/github/Jahnavi-Jaolekar/Cardiovascular-Risk-Prediction/blob/main/Cardiovascular_Risk_Prediction.ipynb\" target=\"_parent\"><img src=\"https://colab.research.google.com/assets/colab-badge.svg\" alt=\"Open In Colab\"/></a>"
      ]
    },
    {
      "cell_type": "markdown",
      "source": [
        "# **Project Name**    - Cardiovascular Risk Prediction\n",
        "\n"
      ],
      "metadata": {
        "id": "vncDsAP0Gaoa"
      }
    },
    {
      "cell_type": "markdown",
      "source": [
        "##### **Project Type**    - Classification\n",
        "##### **Contribution**    - Team\n",
        "##### **Team Member 1** - Kaustubh K Amare\n",
        "##### **Team Member 2** - Md. Nawab Ali\n",
        "##### **Team Member 3** - Jahnavi Jaolekar"
      ],
      "metadata": {
        "id": "beRrZCGUAJYm"
      }
    },
    {
      "cell_type": "markdown",
      "source": [
        "# **Project Summary -**"
      ],
      "metadata": {
        "id": "FJNUwmbgGyua"
      }
    },
    {
      "cell_type": "markdown",
      "source": [
        "Write the summary here within 500-600 words."
      ],
      "metadata": {
        "id": "F6v_1wHtG2nS"
      }
    },
    {
      "cell_type": "markdown",
      "source": [
        "# **GitHub Link -**"
      ],
      "metadata": {
        "id": "w6K7xa23Elo4"
      }
    },
    {
      "cell_type": "markdown",
      "source": [
        "Provide your GitHub Link here."
      ],
      "metadata": {
        "id": "h1o69JH3Eqqn"
      }
    },
    {
      "cell_type": "markdown",
      "source": [
        "# **Problem Statement**\n"
      ],
      "metadata": {
        "id": "yQaldy8SH6Dl"
      }
    },
    {
      "cell_type": "markdown",
      "source": [
        "**The dataset is from an ongoing cardiovascular study on residents of the town of Framingham, Massachusetts. The classification goal is to predict whether the patient has a 10-year risk of future coronary heart disease (CHD). The dataset provides, the patients' information. It includes over 4,000 records and 15 attributes. Each attribute is a potential risk factor. There are both demographic, behavioral and medical risk factors.**"
      ],
      "metadata": {
        "id": "DpeJGUA3kjGy"
      }
    },
    {
      "cell_type": "markdown",
      "source": [
        "# **General Guidelines** : -  "
      ],
      "metadata": {
        "id": "mDgbUHAGgjLW"
      }
    },
    {
      "cell_type": "markdown",
      "source": [
        "1.   Well-structured, formatted, and commented code is required. \n",
        "2.   Exception Handling, Production Grade Code & Deployment Ready Code will be a plus. Those students will be awarded some additional credits. \n",
        "     \n",
        "     The additional credits will have advantages over other students during Star Student selection.\n",
        "       \n",
        "             [ Note: - Deployment Ready Code is defined as, the whole .ipynb notebook should be executable in one go\n",
        "                       without a single error logged. ]\n",
        "\n",
        "3.   Each and every logic should have proper comments.\n",
        "4. You may add as many number of charts you want. Make Sure for each and every chart the following format should be answered.\n",
        "        \n",
        "\n",
        "```\n",
        "# Chart visualization code\n",
        "```\n",
        "            \n",
        "\n",
        "*   Why did you pick the specific chart?\n",
        "*   What is/are the insight(s) found from the chart?\n",
        "* Will the gained insights help creating a positive business impact? \n",
        "Are there any insights that lead to negative growth? Justify with specific reason.\n",
        "\n",
        "5. You have to create at least 15 logical & meaningful charts having important insights.\n",
        "\n",
        "\n",
        "[ Hints : - Do the Vizualization in  a structured way while following \"UBM\" Rule. \n",
        "\n",
        "U - Univariate Analysis,\n",
        "\n",
        "B - Bivariate Analysis (Numerical - Categorical, Numerical - Numerical, Categorical - Categorical)\n",
        "\n",
        "M - Multivariate Analysis\n",
        " ]\n",
        "\n",
        "\n",
        "\n",
        "\n",
        "\n",
        "6. You may add more ml algorithms for model creation. Make sure for each and every algorithm, the following format should be answered.\n",
        "\n",
        "\n",
        "*   Explain the ML Model used and it's performance using Evaluation metric Score Chart.\n",
        "\n",
        "\n",
        "*   Cross- Validation & Hyperparameter Tuning\n",
        "\n",
        "*   Have you seen any improvement? Note down the improvement with updates Evaluation metric Score Chart.\n",
        "\n",
        "*   Explain each evaluation metric's indication towards business and the business impact pf the ML model used.\n",
        "\n",
        "\n",
        "\n",
        "\n",
        "\n",
        "\n",
        "\n",
        "\n",
        "\n",
        "\n",
        "\n",
        "\n",
        "\n",
        "\n",
        "\n",
        "\n",
        "\n",
        "\n"
      ],
      "metadata": {
        "id": "ZrxVaUj-hHfC"
      }
    },
    {
      "cell_type": "markdown",
      "source": [
        "# ***Let's Begin !***"
      ],
      "metadata": {
        "id": "O_i_v8NEhb9l"
      }
    },
    {
      "cell_type": "markdown",
      "source": [
        "## ***1. Know Your Data***"
      ],
      "metadata": {
        "id": "HhfV-JJviCcP"
      }
    },
    {
      "cell_type": "markdown",
      "source": [
        "### Import Libraries"
      ],
      "metadata": {
        "id": "Y3lxredqlCYt"
      }
    },
    {
      "cell_type": "code",
      "source": [
        "# Import Libraries\n",
        "import numpy as np\n",
        "import pandas as pd\n",
        "from sklearn.preprocessing import MinMaxScaler,StandardScaler\n",
        "from sklearn.model_selection import train_test_split\n",
        "from sklearn.metrics import r2_score\n",
        "from sklearn.metrics import mean_squared_error\n",
        "from sklearn.linear_model import LogisticRegression\n",
        "from sklearn.metrics import confusion_matrix, classification_report, roc_curve\n",
        "from sklearn.metrics import make_scorer, recall_score, f1_score\n",
        "from sklearn.model_selection import GridSearchCV\n",
        "from sklearn.neighbors import KNeighborsClassifier\n",
        "from sklearn.svm import SVC\n",
        "from sklearn.tree import DecisionTreeClassifier\n",
        "from sklearn.ensemble import RandomForestClassifier\n",
        "from sklearn.naive_bayes import GaussianNB\n",
        "from sklearn import svm\n",
        "from xgboost import XGBRFClassifier\n",
        "from statsmodels.stats.outliers_influence import variance_inflation_factor\n",
        "from imblearn.combine import SMOTETomek\n",
        "import matplotlib.pyplot as plt\n",
        "import seaborn as sns\n",
        "!pip install missingno\n",
        "import missingno as msno\n",
        "import warnings\n",
        "warnings.filterwarnings(\"ignore\")"
      ],
      "metadata": {
        "id": "M8Vqi-pPk-HR",
        "colab": {
          "base_uri": "https://localhost:8080/"
        },
        "outputId": "3cc56388-266c-4db6-d9b7-b0f4c0e50897"
      },
      "execution_count": 1,
      "outputs": [
        {
          "output_type": "stream",
          "name": "stdout",
          "text": [
            "Looking in indexes: https://pypi.org/simple, https://us-python.pkg.dev/colab-wheels/public/simple/\n",
            "Requirement already satisfied: missingno in /usr/local/lib/python3.8/dist-packages (0.5.1)\n",
            "Requirement already satisfied: scipy in /usr/local/lib/python3.8/dist-packages (from missingno) (1.7.3)\n",
            "Requirement already satisfied: seaborn in /usr/local/lib/python3.8/dist-packages (from missingno) (0.11.2)\n",
            "Requirement already satisfied: matplotlib in /usr/local/lib/python3.8/dist-packages (from missingno) (3.2.2)\n",
            "Requirement already satisfied: numpy in /usr/local/lib/python3.8/dist-packages (from missingno) (1.21.6)\n",
            "Requirement already satisfied: python-dateutil>=2.1 in /usr/local/lib/python3.8/dist-packages (from matplotlib->missingno) (2.8.2)\n",
            "Requirement already satisfied: cycler>=0.10 in /usr/local/lib/python3.8/dist-packages (from matplotlib->missingno) (0.11.0)\n",
            "Requirement already satisfied: pyparsing!=2.0.4,!=2.1.2,!=2.1.6,>=2.0.1 in /usr/local/lib/python3.8/dist-packages (from matplotlib->missingno) (3.0.9)\n",
            "Requirement already satisfied: kiwisolver>=1.0.1 in /usr/local/lib/python3.8/dist-packages (from matplotlib->missingno) (1.4.4)\n",
            "Requirement already satisfied: six>=1.5 in /usr/local/lib/python3.8/dist-packages (from python-dateutil>=2.1->matplotlib->missingno) (1.15.0)\n",
            "Requirement already satisfied: pandas>=0.23 in /usr/local/lib/python3.8/dist-packages (from seaborn->missingno) (1.3.5)\n",
            "Requirement already satisfied: pytz>=2017.3 in /usr/local/lib/python3.8/dist-packages (from pandas>=0.23->seaborn->missingno) (2022.6)\n"
          ]
        }
      ]
    },
    {
      "cell_type": "markdown",
      "source": [
        "### Dataset Loading"
      ],
      "metadata": {
        "id": "3RnN4peoiCZX"
      }
    },
    {
      "cell_type": "code",
      "source": [
        "from google.colab import drive\n",
        "drive.mount('/content/drive')"
      ],
      "metadata": {
        "colab": {
          "base_uri": "https://localhost:8080/"
        },
        "id": "0lBJtbasKKrz",
        "outputId": "e06753c9-3079-4504-e5bd-957f3ceff234"
      },
      "execution_count": 2,
      "outputs": [
        {
          "output_type": "stream",
          "name": "stdout",
          "text": [
            "Mounted at /content/drive\n"
          ]
        }
      ]
    },
    {
      "cell_type": "code",
      "source": [
        "# Load Dataset\n",
        "crp_df = pd.read_csv('/content/drive/MyDrive/capstone project 3/Copy of data_cardiovascular_risk.csv')"
      ],
      "metadata": {
        "id": "4CkvbW_SlZ_R"
      },
      "execution_count": 4,
      "outputs": []
    },
    {
      "cell_type": "markdown",
      "source": [
        "### Dataset First View"
      ],
      "metadata": {
        "id": "x71ZqKXriCWQ"
      }
    },
    {
      "cell_type": "code",
      "source": [
        "# Dataset First Look\n",
        "crp_df.head()"
      ],
      "metadata": {
        "id": "LWNFOSvLl09H",
        "colab": {
          "base_uri": "https://localhost:8080/",
          "height": 206
        },
        "outputId": "acb06003-59f3-4c0b-84c8-e52fe229a9f4"
      },
      "execution_count": 5,
      "outputs": [
        {
          "output_type": "execute_result",
          "data": {
            "text/plain": [
              "   id  age  education sex is_smoking  cigsPerDay  BPMeds  prevalentStroke  \\\n",
              "0   0   64        2.0   F        YES         3.0     0.0                0   \n",
              "1   1   36        4.0   M         NO         0.0     0.0                0   \n",
              "2   2   46        1.0   F        YES        10.0     0.0                0   \n",
              "3   3   50        1.0   M        YES        20.0     0.0                0   \n",
              "4   4   64        1.0   F        YES        30.0     0.0                0   \n",
              "\n",
              "   prevalentHyp  diabetes  totChol  sysBP  diaBP    BMI  heartRate  glucose  \\\n",
              "0             0         0    221.0  148.0   85.0    NaN       90.0     80.0   \n",
              "1             1         0    212.0  168.0   98.0  29.77       72.0     75.0   \n",
              "2             0         0    250.0  116.0   71.0  20.35       88.0     94.0   \n",
              "3             1         0    233.0  158.0   88.0  28.26       68.0     94.0   \n",
              "4             0         0    241.0  136.5   85.0  26.42       70.0     77.0   \n",
              "\n",
              "   TenYearCHD  \n",
              "0           1  \n",
              "1           0  \n",
              "2           0  \n",
              "3           1  \n",
              "4           0  "
            ],
            "text/html": [
              "\n",
              "  <div id=\"df-cb2dd6ab-4907-401a-ad80-8b29ae731a68\">\n",
              "    <div class=\"colab-df-container\">\n",
              "      <div>\n",
              "<style scoped>\n",
              "    .dataframe tbody tr th:only-of-type {\n",
              "        vertical-align: middle;\n",
              "    }\n",
              "\n",
              "    .dataframe tbody tr th {\n",
              "        vertical-align: top;\n",
              "    }\n",
              "\n",
              "    .dataframe thead th {\n",
              "        text-align: right;\n",
              "    }\n",
              "</style>\n",
              "<table border=\"1\" class=\"dataframe\">\n",
              "  <thead>\n",
              "    <tr style=\"text-align: right;\">\n",
              "      <th></th>\n",
              "      <th>id</th>\n",
              "      <th>age</th>\n",
              "      <th>education</th>\n",
              "      <th>sex</th>\n",
              "      <th>is_smoking</th>\n",
              "      <th>cigsPerDay</th>\n",
              "      <th>BPMeds</th>\n",
              "      <th>prevalentStroke</th>\n",
              "      <th>prevalentHyp</th>\n",
              "      <th>diabetes</th>\n",
              "      <th>totChol</th>\n",
              "      <th>sysBP</th>\n",
              "      <th>diaBP</th>\n",
              "      <th>BMI</th>\n",
              "      <th>heartRate</th>\n",
              "      <th>glucose</th>\n",
              "      <th>TenYearCHD</th>\n",
              "    </tr>\n",
              "  </thead>\n",
              "  <tbody>\n",
              "    <tr>\n",
              "      <th>0</th>\n",
              "      <td>0</td>\n",
              "      <td>64</td>\n",
              "      <td>2.0</td>\n",
              "      <td>F</td>\n",
              "      <td>YES</td>\n",
              "      <td>3.0</td>\n",
              "      <td>0.0</td>\n",
              "      <td>0</td>\n",
              "      <td>0</td>\n",
              "      <td>0</td>\n",
              "      <td>221.0</td>\n",
              "      <td>148.0</td>\n",
              "      <td>85.0</td>\n",
              "      <td>NaN</td>\n",
              "      <td>90.0</td>\n",
              "      <td>80.0</td>\n",
              "      <td>1</td>\n",
              "    </tr>\n",
              "    <tr>\n",
              "      <th>1</th>\n",
              "      <td>1</td>\n",
              "      <td>36</td>\n",
              "      <td>4.0</td>\n",
              "      <td>M</td>\n",
              "      <td>NO</td>\n",
              "      <td>0.0</td>\n",
              "      <td>0.0</td>\n",
              "      <td>0</td>\n",
              "      <td>1</td>\n",
              "      <td>0</td>\n",
              "      <td>212.0</td>\n",
              "      <td>168.0</td>\n",
              "      <td>98.0</td>\n",
              "      <td>29.77</td>\n",
              "      <td>72.0</td>\n",
              "      <td>75.0</td>\n",
              "      <td>0</td>\n",
              "    </tr>\n",
              "    <tr>\n",
              "      <th>2</th>\n",
              "      <td>2</td>\n",
              "      <td>46</td>\n",
              "      <td>1.0</td>\n",
              "      <td>F</td>\n",
              "      <td>YES</td>\n",
              "      <td>10.0</td>\n",
              "      <td>0.0</td>\n",
              "      <td>0</td>\n",
              "      <td>0</td>\n",
              "      <td>0</td>\n",
              "      <td>250.0</td>\n",
              "      <td>116.0</td>\n",
              "      <td>71.0</td>\n",
              "      <td>20.35</td>\n",
              "      <td>88.0</td>\n",
              "      <td>94.0</td>\n",
              "      <td>0</td>\n",
              "    </tr>\n",
              "    <tr>\n",
              "      <th>3</th>\n",
              "      <td>3</td>\n",
              "      <td>50</td>\n",
              "      <td>1.0</td>\n",
              "      <td>M</td>\n",
              "      <td>YES</td>\n",
              "      <td>20.0</td>\n",
              "      <td>0.0</td>\n",
              "      <td>0</td>\n",
              "      <td>1</td>\n",
              "      <td>0</td>\n",
              "      <td>233.0</td>\n",
              "      <td>158.0</td>\n",
              "      <td>88.0</td>\n",
              "      <td>28.26</td>\n",
              "      <td>68.0</td>\n",
              "      <td>94.0</td>\n",
              "      <td>1</td>\n",
              "    </tr>\n",
              "    <tr>\n",
              "      <th>4</th>\n",
              "      <td>4</td>\n",
              "      <td>64</td>\n",
              "      <td>1.0</td>\n",
              "      <td>F</td>\n",
              "      <td>YES</td>\n",
              "      <td>30.0</td>\n",
              "      <td>0.0</td>\n",
              "      <td>0</td>\n",
              "      <td>0</td>\n",
              "      <td>0</td>\n",
              "      <td>241.0</td>\n",
              "      <td>136.5</td>\n",
              "      <td>85.0</td>\n",
              "      <td>26.42</td>\n",
              "      <td>70.0</td>\n",
              "      <td>77.0</td>\n",
              "      <td>0</td>\n",
              "    </tr>\n",
              "  </tbody>\n",
              "</table>\n",
              "</div>\n",
              "      <button class=\"colab-df-convert\" onclick=\"convertToInteractive('df-cb2dd6ab-4907-401a-ad80-8b29ae731a68')\"\n",
              "              title=\"Convert this dataframe to an interactive table.\"\n",
              "              style=\"display:none;\">\n",
              "        \n",
              "  <svg xmlns=\"http://www.w3.org/2000/svg\" height=\"24px\"viewBox=\"0 0 24 24\"\n",
              "       width=\"24px\">\n",
              "    <path d=\"M0 0h24v24H0V0z\" fill=\"none\"/>\n",
              "    <path d=\"M18.56 5.44l.94 2.06.94-2.06 2.06-.94-2.06-.94-.94-2.06-.94 2.06-2.06.94zm-11 1L8.5 8.5l.94-2.06 2.06-.94-2.06-.94L8.5 2.5l-.94 2.06-2.06.94zm10 10l.94 2.06.94-2.06 2.06-.94-2.06-.94-.94-2.06-.94 2.06-2.06.94z\"/><path d=\"M17.41 7.96l-1.37-1.37c-.4-.4-.92-.59-1.43-.59-.52 0-1.04.2-1.43.59L10.3 9.45l-7.72 7.72c-.78.78-.78 2.05 0 2.83L4 21.41c.39.39.9.59 1.41.59.51 0 1.02-.2 1.41-.59l7.78-7.78 2.81-2.81c.8-.78.8-2.07 0-2.86zM5.41 20L4 18.59l7.72-7.72 1.47 1.35L5.41 20z\"/>\n",
              "  </svg>\n",
              "      </button>\n",
              "      \n",
              "  <style>\n",
              "    .colab-df-container {\n",
              "      display:flex;\n",
              "      flex-wrap:wrap;\n",
              "      gap: 12px;\n",
              "    }\n",
              "\n",
              "    .colab-df-convert {\n",
              "      background-color: #E8F0FE;\n",
              "      border: none;\n",
              "      border-radius: 50%;\n",
              "      cursor: pointer;\n",
              "      display: none;\n",
              "      fill: #1967D2;\n",
              "      height: 32px;\n",
              "      padding: 0 0 0 0;\n",
              "      width: 32px;\n",
              "    }\n",
              "\n",
              "    .colab-df-convert:hover {\n",
              "      background-color: #E2EBFA;\n",
              "      box-shadow: 0px 1px 2px rgba(60, 64, 67, 0.3), 0px 1px 3px 1px rgba(60, 64, 67, 0.15);\n",
              "      fill: #174EA6;\n",
              "    }\n",
              "\n",
              "    [theme=dark] .colab-df-convert {\n",
              "      background-color: #3B4455;\n",
              "      fill: #D2E3FC;\n",
              "    }\n",
              "\n",
              "    [theme=dark] .colab-df-convert:hover {\n",
              "      background-color: #434B5C;\n",
              "      box-shadow: 0px 1px 3px 1px rgba(0, 0, 0, 0.15);\n",
              "      filter: drop-shadow(0px 1px 2px rgba(0, 0, 0, 0.3));\n",
              "      fill: #FFFFFF;\n",
              "    }\n",
              "  </style>\n",
              "\n",
              "      <script>\n",
              "        const buttonEl =\n",
              "          document.querySelector('#df-cb2dd6ab-4907-401a-ad80-8b29ae731a68 button.colab-df-convert');\n",
              "        buttonEl.style.display =\n",
              "          google.colab.kernel.accessAllowed ? 'block' : 'none';\n",
              "\n",
              "        async function convertToInteractive(key) {\n",
              "          const element = document.querySelector('#df-cb2dd6ab-4907-401a-ad80-8b29ae731a68');\n",
              "          const dataTable =\n",
              "            await google.colab.kernel.invokeFunction('convertToInteractive',\n",
              "                                                     [key], {});\n",
              "          if (!dataTable) return;\n",
              "\n",
              "          const docLinkHtml = 'Like what you see? Visit the ' +\n",
              "            '<a target=\"_blank\" href=https://colab.research.google.com/notebooks/data_table.ipynb>data table notebook</a>'\n",
              "            + ' to learn more about interactive tables.';\n",
              "          element.innerHTML = '';\n",
              "          dataTable['output_type'] = 'display_data';\n",
              "          await google.colab.output.renderOutput(dataTable, element);\n",
              "          const docLink = document.createElement('div');\n",
              "          docLink.innerHTML = docLinkHtml;\n",
              "          element.appendChild(docLink);\n",
              "        }\n",
              "      </script>\n",
              "    </div>\n",
              "  </div>\n",
              "  "
            ]
          },
          "metadata": {},
          "execution_count": 5
        }
      ]
    },
    {
      "cell_type": "markdown",
      "source": [
        "### Dataset Rows & Columns count"
      ],
      "metadata": {
        "id": "7hBIi_osiCS2"
      }
    },
    {
      "cell_type": "code",
      "source": [
        "# Dataset Rows & Columns count\n",
        "rows=crp_df.shape[0]\n",
        "columns=crp_df.shape[1]\n",
        "print(f'Number of rows in dataset are {rows}')\n",
        "print(f'Number of columns in dataset are {columns}')"
      ],
      "metadata": {
        "id": "Kllu7SJgmLij",
        "colab": {
          "base_uri": "https://localhost:8080/"
        },
        "outputId": "60aa126e-be80-4682-ca3e-5d9c013c629e"
      },
      "execution_count": 6,
      "outputs": [
        {
          "output_type": "stream",
          "name": "stdout",
          "text": [
            "Number of rows in dataset are 3390\n",
            "Number of columns in dataset are 17\n"
          ]
        }
      ]
    },
    {
      "cell_type": "markdown",
      "source": [
        "### Dataset Information"
      ],
      "metadata": {
        "id": "JlHwYmJAmNHm"
      }
    },
    {
      "cell_type": "code",
      "source": [
        "# Dataset Info\n",
        "crp_df.info()"
      ],
      "metadata": {
        "id": "e9hRXRi6meOf",
        "colab": {
          "base_uri": "https://localhost:8080/"
        },
        "outputId": "4f8a1067-3fc7-4042-e37e-d039e0dd7691"
      },
      "execution_count": 7,
      "outputs": [
        {
          "output_type": "stream",
          "name": "stdout",
          "text": [
            "<class 'pandas.core.frame.DataFrame'>\n",
            "RangeIndex: 3390 entries, 0 to 3389\n",
            "Data columns (total 17 columns):\n",
            " #   Column           Non-Null Count  Dtype  \n",
            "---  ------           --------------  -----  \n",
            " 0   id               3390 non-null   int64  \n",
            " 1   age              3390 non-null   int64  \n",
            " 2   education        3303 non-null   float64\n",
            " 3   sex              3390 non-null   object \n",
            " 4   is_smoking       3390 non-null   object \n",
            " 5   cigsPerDay       3368 non-null   float64\n",
            " 6   BPMeds           3346 non-null   float64\n",
            " 7   prevalentStroke  3390 non-null   int64  \n",
            " 8   prevalentHyp     3390 non-null   int64  \n",
            " 9   diabetes         3390 non-null   int64  \n",
            " 10  totChol          3352 non-null   float64\n",
            " 11  sysBP            3390 non-null   float64\n",
            " 12  diaBP            3390 non-null   float64\n",
            " 13  BMI              3376 non-null   float64\n",
            " 14  heartRate        3389 non-null   float64\n",
            " 15  glucose          3086 non-null   float64\n",
            " 16  TenYearCHD       3390 non-null   int64  \n",
            "dtypes: float64(9), int64(6), object(2)\n",
            "memory usage: 450.4+ KB\n"
          ]
        }
      ]
    },
    {
      "cell_type": "markdown",
      "source": [
        "#### Duplicate Values"
      ],
      "metadata": {
        "id": "35m5QtbWiB9F"
      }
    },
    {
      "cell_type": "code",
      "source": [
        "# Dataset Duplicate Value Count\n",
        "# Defining function to determine null values in dataset and datatype of the data\n",
        "def brief():\n",
        "  values=pd.DataFrame(index=crp_df.columns)\n",
        "  values['Null Count']= crp_df.isnull().sum()\n",
        "  values['Duplicate']=crp_df.duplicated()\n",
        "  values['unique_count']= crp_df.nunique()\n",
        "  return values "
      ],
      "metadata": {
        "id": "1sLdpKYkmox0"
      },
      "execution_count": 8,
      "outputs": []
    },
    {
      "cell_type": "markdown",
      "source": [
        "#### Missing Values/Null Values"
      ],
      "metadata": {
        "id": "PoPl-ycgm1ru"
      }
    },
    {
      "cell_type": "code",
      "source": [
        "# Missing Values/Null Values Count\n",
        "brief()"
      ],
      "metadata": {
        "id": "GgHWkxvamxVg",
        "colab": {
          "base_uri": "https://localhost:8080/",
          "height": 582
        },
        "outputId": "1e753d37-c119-4a92-8562-9361a98106d7"
      },
      "execution_count": 10,
      "outputs": [
        {
          "output_type": "execute_result",
          "data": {
            "text/plain": [
              "                 Null Count Duplicate  unique_count\n",
              "id                        0       NaN          3390\n",
              "age                       0       NaN            39\n",
              "education                87       NaN             4\n",
              "sex                       0       NaN             2\n",
              "is_smoking                0       NaN             2\n",
              "cigsPerDay               22       NaN            32\n",
              "BPMeds                   44       NaN             2\n",
              "prevalentStroke           0       NaN             2\n",
              "prevalentHyp              0       NaN             2\n",
              "diabetes                  0       NaN             2\n",
              "totChol                  38       NaN           240\n",
              "sysBP                     0       NaN           226\n",
              "diaBP                     0       NaN           142\n",
              "BMI                      14       NaN          1259\n",
              "heartRate                 1       NaN            68\n",
              "glucose                 304       NaN           132\n",
              "TenYearCHD                0       NaN             2"
            ],
            "text/html": [
              "\n",
              "  <div id=\"df-cb449bf2-3ce8-4226-9402-2348f27f016e\">\n",
              "    <div class=\"colab-df-container\">\n",
              "      <div>\n",
              "<style scoped>\n",
              "    .dataframe tbody tr th:only-of-type {\n",
              "        vertical-align: middle;\n",
              "    }\n",
              "\n",
              "    .dataframe tbody tr th {\n",
              "        vertical-align: top;\n",
              "    }\n",
              "\n",
              "    .dataframe thead th {\n",
              "        text-align: right;\n",
              "    }\n",
              "</style>\n",
              "<table border=\"1\" class=\"dataframe\">\n",
              "  <thead>\n",
              "    <tr style=\"text-align: right;\">\n",
              "      <th></th>\n",
              "      <th>Null Count</th>\n",
              "      <th>Duplicate</th>\n",
              "      <th>unique_count</th>\n",
              "    </tr>\n",
              "  </thead>\n",
              "  <tbody>\n",
              "    <tr>\n",
              "      <th>id</th>\n",
              "      <td>0</td>\n",
              "      <td>NaN</td>\n",
              "      <td>3390</td>\n",
              "    </tr>\n",
              "    <tr>\n",
              "      <th>age</th>\n",
              "      <td>0</td>\n",
              "      <td>NaN</td>\n",
              "      <td>39</td>\n",
              "    </tr>\n",
              "    <tr>\n",
              "      <th>education</th>\n",
              "      <td>87</td>\n",
              "      <td>NaN</td>\n",
              "      <td>4</td>\n",
              "    </tr>\n",
              "    <tr>\n",
              "      <th>sex</th>\n",
              "      <td>0</td>\n",
              "      <td>NaN</td>\n",
              "      <td>2</td>\n",
              "    </tr>\n",
              "    <tr>\n",
              "      <th>is_smoking</th>\n",
              "      <td>0</td>\n",
              "      <td>NaN</td>\n",
              "      <td>2</td>\n",
              "    </tr>\n",
              "    <tr>\n",
              "      <th>cigsPerDay</th>\n",
              "      <td>22</td>\n",
              "      <td>NaN</td>\n",
              "      <td>32</td>\n",
              "    </tr>\n",
              "    <tr>\n",
              "      <th>BPMeds</th>\n",
              "      <td>44</td>\n",
              "      <td>NaN</td>\n",
              "      <td>2</td>\n",
              "    </tr>\n",
              "    <tr>\n",
              "      <th>prevalentStroke</th>\n",
              "      <td>0</td>\n",
              "      <td>NaN</td>\n",
              "      <td>2</td>\n",
              "    </tr>\n",
              "    <tr>\n",
              "      <th>prevalentHyp</th>\n",
              "      <td>0</td>\n",
              "      <td>NaN</td>\n",
              "      <td>2</td>\n",
              "    </tr>\n",
              "    <tr>\n",
              "      <th>diabetes</th>\n",
              "      <td>0</td>\n",
              "      <td>NaN</td>\n",
              "      <td>2</td>\n",
              "    </tr>\n",
              "    <tr>\n",
              "      <th>totChol</th>\n",
              "      <td>38</td>\n",
              "      <td>NaN</td>\n",
              "      <td>240</td>\n",
              "    </tr>\n",
              "    <tr>\n",
              "      <th>sysBP</th>\n",
              "      <td>0</td>\n",
              "      <td>NaN</td>\n",
              "      <td>226</td>\n",
              "    </tr>\n",
              "    <tr>\n",
              "      <th>diaBP</th>\n",
              "      <td>0</td>\n",
              "      <td>NaN</td>\n",
              "      <td>142</td>\n",
              "    </tr>\n",
              "    <tr>\n",
              "      <th>BMI</th>\n",
              "      <td>14</td>\n",
              "      <td>NaN</td>\n",
              "      <td>1259</td>\n",
              "    </tr>\n",
              "    <tr>\n",
              "      <th>heartRate</th>\n",
              "      <td>1</td>\n",
              "      <td>NaN</td>\n",
              "      <td>68</td>\n",
              "    </tr>\n",
              "    <tr>\n",
              "      <th>glucose</th>\n",
              "      <td>304</td>\n",
              "      <td>NaN</td>\n",
              "      <td>132</td>\n",
              "    </tr>\n",
              "    <tr>\n",
              "      <th>TenYearCHD</th>\n",
              "      <td>0</td>\n",
              "      <td>NaN</td>\n",
              "      <td>2</td>\n",
              "    </tr>\n",
              "  </tbody>\n",
              "</table>\n",
              "</div>\n",
              "      <button class=\"colab-df-convert\" onclick=\"convertToInteractive('df-cb449bf2-3ce8-4226-9402-2348f27f016e')\"\n",
              "              title=\"Convert this dataframe to an interactive table.\"\n",
              "              style=\"display:none;\">\n",
              "        \n",
              "  <svg xmlns=\"http://www.w3.org/2000/svg\" height=\"24px\"viewBox=\"0 0 24 24\"\n",
              "       width=\"24px\">\n",
              "    <path d=\"M0 0h24v24H0V0z\" fill=\"none\"/>\n",
              "    <path d=\"M18.56 5.44l.94 2.06.94-2.06 2.06-.94-2.06-.94-.94-2.06-.94 2.06-2.06.94zm-11 1L8.5 8.5l.94-2.06 2.06-.94-2.06-.94L8.5 2.5l-.94 2.06-2.06.94zm10 10l.94 2.06.94-2.06 2.06-.94-2.06-.94-.94-2.06-.94 2.06-2.06.94z\"/><path d=\"M17.41 7.96l-1.37-1.37c-.4-.4-.92-.59-1.43-.59-.52 0-1.04.2-1.43.59L10.3 9.45l-7.72 7.72c-.78.78-.78 2.05 0 2.83L4 21.41c.39.39.9.59 1.41.59.51 0 1.02-.2 1.41-.59l7.78-7.78 2.81-2.81c.8-.78.8-2.07 0-2.86zM5.41 20L4 18.59l7.72-7.72 1.47 1.35L5.41 20z\"/>\n",
              "  </svg>\n",
              "      </button>\n",
              "      \n",
              "  <style>\n",
              "    .colab-df-container {\n",
              "      display:flex;\n",
              "      flex-wrap:wrap;\n",
              "      gap: 12px;\n",
              "    }\n",
              "\n",
              "    .colab-df-convert {\n",
              "      background-color: #E8F0FE;\n",
              "      border: none;\n",
              "      border-radius: 50%;\n",
              "      cursor: pointer;\n",
              "      display: none;\n",
              "      fill: #1967D2;\n",
              "      height: 32px;\n",
              "      padding: 0 0 0 0;\n",
              "      width: 32px;\n",
              "    }\n",
              "\n",
              "    .colab-df-convert:hover {\n",
              "      background-color: #E2EBFA;\n",
              "      box-shadow: 0px 1px 2px rgba(60, 64, 67, 0.3), 0px 1px 3px 1px rgba(60, 64, 67, 0.15);\n",
              "      fill: #174EA6;\n",
              "    }\n",
              "\n",
              "    [theme=dark] .colab-df-convert {\n",
              "      background-color: #3B4455;\n",
              "      fill: #D2E3FC;\n",
              "    }\n",
              "\n",
              "    [theme=dark] .colab-df-convert:hover {\n",
              "      background-color: #434B5C;\n",
              "      box-shadow: 0px 1px 3px 1px rgba(0, 0, 0, 0.15);\n",
              "      filter: drop-shadow(0px 1px 2px rgba(0, 0, 0, 0.3));\n",
              "      fill: #FFFFFF;\n",
              "    }\n",
              "  </style>\n",
              "\n",
              "      <script>\n",
              "        const buttonEl =\n",
              "          document.querySelector('#df-cb449bf2-3ce8-4226-9402-2348f27f016e button.colab-df-convert');\n",
              "        buttonEl.style.display =\n",
              "          google.colab.kernel.accessAllowed ? 'block' : 'none';\n",
              "\n",
              "        async function convertToInteractive(key) {\n",
              "          const element = document.querySelector('#df-cb449bf2-3ce8-4226-9402-2348f27f016e');\n",
              "          const dataTable =\n",
              "            await google.colab.kernel.invokeFunction('convertToInteractive',\n",
              "                                                     [key], {});\n",
              "          if (!dataTable) return;\n",
              "\n",
              "          const docLinkHtml = 'Like what you see? Visit the ' +\n",
              "            '<a target=\"_blank\" href=https://colab.research.google.com/notebooks/data_table.ipynb>data table notebook</a>'\n",
              "            + ' to learn more about interactive tables.';\n",
              "          element.innerHTML = '';\n",
              "          dataTable['output_type'] = 'display_data';\n",
              "          await google.colab.output.renderOutput(dataTable, element);\n",
              "          const docLink = document.createElement('div');\n",
              "          docLink.innerHTML = docLinkHtml;\n",
              "          element.appendChild(docLink);\n",
              "        }\n",
              "      </script>\n",
              "    </div>\n",
              "  </div>\n",
              "  "
            ]
          },
          "metadata": {},
          "execution_count": 10
        }
      ]
    },
    {
      "cell_type": "code",
      "source": [
        "# Visualizing the missing values\n",
        "msno.bar(crp_df)"
      ],
      "metadata": {
        "id": "3q5wnI3om9sJ",
        "colab": {
          "base_uri": "https://localhost:8080/",
          "height": 703
        },
        "outputId": "4468b924-a158-4c2d-f44a-d26192cfc197"
      },
      "execution_count": 11,
      "outputs": [
        {
          "output_type": "execute_result",
          "data": {
            "text/plain": [
              "<matplotlib.axes._subplots.AxesSubplot at 0x7f17ae164dc0>"
            ]
          },
          "metadata": {},
          "execution_count": 11
        },
        {
          "output_type": "display_data",
          "data": {
            "text/plain": [
              "<Figure size 1800x720 with 3 Axes>"
            ],
            "image/png": "[encoded data removed]"
          },
          "metadata": {
            "needs_background": "light"
          }
        }
      ]
    },
    {
      "cell_type": "markdown",
      "source": [
        "### What did you know about your dataset?"
      ],
      "metadata": {
        "id": "H0kj-8xxnORC"
      }
    },
    {
      "cell_type": "markdown",
      "source": [
        "Data set is in csv format, it has 3390 rows and 17 columns.\n",
        "\n",
        "7 columns have null values namely:\n",
        "\n",
        "education column has 87 null values, cigs_per_day has 22, BP_Meds has 44, totchol has 38, BMI has 14, and glucose ha 304.\n",
        "since our data set is very small we cannnot remove or drop null values, we can only replace them.\n",
        "\n",
        "Dataset does not have any duplicate values as well.\n",
        "\n"
      ],
      "metadata": {
        "id": "gfoNAAC-nUe_"
      }
    },
    {
      "cell_type": "markdown",
      "source": [
        "## ***2. Understanding Your Variables***"
      ],
      "metadata": {
        "id": "nA9Y7ga8ng1Z"
      }
    },
    {
      "cell_type": "code",
      "source": [
        "# Dataset Columns\n",
        "crp_df.columns"
      ],
      "metadata": {
        "id": "j7xfkqrt5Ag5",
        "colab": {
          "base_uri": "https://localhost:8080/"
        },
        "outputId": "0c72155b-0029-4e0b-d2cb-2ab0e27cc870"
      },
      "execution_count": 12,
      "outputs": [
        {
          "output_type": "execute_result",
          "data": {
            "text/plain": [
              "Index(['id', 'age', 'education', 'sex', 'is_smoking', 'cigsPerDay', 'BPMeds',\n",
              "       'prevalentStroke', 'prevalentHyp', 'diabetes', 'totChol', 'sysBP',\n",
              "       'diaBP', 'BMI', 'heartRate', 'glucose', 'TenYearCHD'],\n",
              "      dtype='object')"
            ]
          },
          "metadata": {},
          "execution_count": 12
        }
      ]
    },
    {
      "cell_type": "code",
      "source": [
        "# Dataset Describe\n",
        "crp_df.describe().round(2).style.background_gradient().set_properties(**{'border': '1.3px solid red',\n",
        "                          'color': 'black'})"
      ],
      "metadata": {
        "id": "DnOaZdaE5Q5t",
        "colab": {
          "base_uri": "https://localhost:8080/",
          "height": 331
        },
        "outputId": "5577b57c-f531-44dd-9b1b-016b781eb872"
      },
      "execution_count": 13,
      "outputs": [
        {
          "output_type": "execute_result",
          "data": {
            "text/plain": [
              "<pandas.io.formats.style.Styler at 0x7f17cdfe0df0>"
            ],
            "text/html": [
              "<style type=\"text/css\">\n",
              "#T_9c187_row0_col0, #T_9c187_row0_col1, #T_9c187_row0_col2, #T_9c187_row0_col3, #T_9c187_row0_col4, #T_9c187_row0_col5, #T_9c187_row0_col6, #T_9c187_row0_col7, #T_9c187_row0_col8, #T_9c187_row0_col9, #T_9c187_row0_col10, #T_9c187_row0_col11, #T_9c187_row0_col12, #T_9c187_row0_col13, #T_9c187_row0_col14, #T_9c187_row7_col0 {\n",
              "  background-color: #023858;\n",
              "  color: #f1f1f1;\n",
              "  border: 1.3px solid red;\n",
              "  color: black;\n",
              "}\n",
              "#T_9c187_row1_col0, #T_9c187_row5_col0 {\n",
              "  background-color: #75a9cf;\n",
              "  color: #f1f1f1;\n",
              "  border: 1.3px solid red;\n",
              "  color: black;\n",
              "}\n",
              "#T_9c187_row1_col1, #T_9c187_row1_col12, #T_9c187_row1_col13, #T_9c187_row3_col8, #T_9c187_row3_col9, #T_9c187_row4_col10, #T_9c187_row4_col12, #T_9c187_row4_col13, #T_9c187_row5_col1, #T_9c187_row5_col12, #T_9c187_row5_col13, #T_9c187_row6_col1, #T_9c187_row7_col1, #T_9c187_row7_col11 {\n",
              "  background-color: #fdf5fa;\n",
              "  color: #000000;\n",
              "  border: 1.3px solid red;\n",
              "  color: black;\n",
              "}\n",
              "#T_9c187_row1_col2, #T_9c187_row1_col3, #T_9c187_row1_col4, #T_9c187_row1_col5, #T_9c187_row1_col6, #T_9c187_row1_col7, #T_9c187_row1_col14, #T_9c187_row2_col1, #T_9c187_row2_col2, #T_9c187_row2_col3, #T_9c187_row2_col4, #T_9c187_row2_col5, #T_9c187_row2_col6, #T_9c187_row2_col7, #T_9c187_row2_col8, #T_9c187_row2_col9, #T_9c187_row2_col10, #T_9c187_row2_col11, #T_9c187_row2_col12, #T_9c187_row2_col13, #T_9c187_row2_col14, #T_9c187_row3_col0, #T_9c187_row3_col2, #T_9c187_row3_col3, #T_9c187_row3_col4, #T_9c187_row3_col5, #T_9c187_row3_col6, #T_9c187_row3_col7, #T_9c187_row3_col11, #T_9c187_row3_col14, #T_9c187_row4_col2, #T_9c187_row4_col3, #T_9c187_row4_col4, #T_9c187_row4_col5, #T_9c187_row4_col6, #T_9c187_row4_col7, #T_9c187_row4_col14, #T_9c187_row5_col2, #T_9c187_row5_col3, #T_9c187_row5_col4, #T_9c187_row5_col5, #T_9c187_row5_col6, #T_9c187_row5_col7, #T_9c187_row5_col14, #T_9c187_row6_col2, #T_9c187_row6_col4, #T_9c187_row6_col5, #T_9c187_row6_col6, #T_9c187_row6_col7, #T_9c187_row6_col14, #T_9c187_row7_col2, #T_9c187_row7_col4, #T_9c187_row7_col5, #T_9c187_row7_col6, #T_9c187_row7_col7, #T_9c187_row7_col14 {\n",
              "  background-color: #fff7fb;\n",
              "  color: #000000;\n",
              "  border: 1.3px solid red;\n",
              "  color: black;\n",
              "}\n",
              "#T_9c187_row1_col8, #T_9c187_row5_col8 {\n",
              "  background-color: #f7f0f7;\n",
              "  color: #000000;\n",
              "  border: 1.3px solid red;\n",
              "  color: black;\n",
              "}\n",
              "#T_9c187_row1_col9, #T_9c187_row5_col9 {\n",
              "  background-color: #faf3f9;\n",
              "  color: #000000;\n",
              "  border: 1.3px solid red;\n",
              "  color: black;\n",
              "}\n",
              "#T_9c187_row1_col10, #T_9c187_row5_col10, #T_9c187_row6_col10, #T_9c187_row6_col12, #T_9c187_row6_col13, #T_9c187_row7_col3 {\n",
              "  background-color: #fcf4fa;\n",
              "  color: #000000;\n",
              "  border: 1.3px solid red;\n",
              "  color: black;\n",
              "}\n",
              "#T_9c187_row1_col11, #T_9c187_row3_col1, #T_9c187_row3_col13, #T_9c187_row4_col11, #T_9c187_row5_col11, #T_9c187_row6_col3, #T_9c187_row6_col11 {\n",
              "  background-color: #fef6fb;\n",
              "  color: #000000;\n",
              "  border: 1.3px solid red;\n",
              "  color: black;\n",
              "}\n",
              "#T_9c187_row2_col0 {\n",
              "  background-color: #c4cbe3;\n",
              "  color: #000000;\n",
              "  border: 1.3px solid red;\n",
              "  color: black;\n",
              "}\n",
              "#T_9c187_row3_col10, #T_9c187_row3_col12, #T_9c187_row4_col1 {\n",
              "  background-color: #fef6fa;\n",
              "  color: #000000;\n",
              "  border: 1.3px solid red;\n",
              "  color: black;\n",
              "}\n",
              "#T_9c187_row4_col0 {\n",
              "  background-color: #d1d2e6;\n",
              "  color: #000000;\n",
              "  border: 1.3px solid red;\n",
              "  color: black;\n",
              "}\n",
              "#T_9c187_row4_col8 {\n",
              "  background-color: #f8f1f8;\n",
              "  color: #000000;\n",
              "  border: 1.3px solid red;\n",
              "  color: black;\n",
              "}\n",
              "#T_9c187_row4_col9 {\n",
              "  background-color: #fbf3f9;\n",
              "  color: #000000;\n",
              "  border: 1.3px solid red;\n",
              "  color: black;\n",
              "}\n",
              "#T_9c187_row6_col0 {\n",
              "  background-color: #0570b0;\n",
              "  color: #f1f1f1;\n",
              "  border: 1.3px solid red;\n",
              "  color: black;\n",
              "}\n",
              "#T_9c187_row6_col8 {\n",
              "  background-color: #f5eff6;\n",
              "  color: #000000;\n",
              "  border: 1.3px solid red;\n",
              "  color: black;\n",
              "}\n",
              "#T_9c187_row6_col9, #T_9c187_row7_col10, #T_9c187_row7_col12 {\n",
              "  background-color: #faf2f8;\n",
              "  color: #000000;\n",
              "  border: 1.3px solid red;\n",
              "  color: black;\n",
              "}\n",
              "#T_9c187_row7_col8 {\n",
              "  background-color: #dcdaeb;\n",
              "  color: #000000;\n",
              "  border: 1.3px solid red;\n",
              "  color: black;\n",
              "}\n",
              "#T_9c187_row7_col9 {\n",
              "  background-color: #f3edf5;\n",
              "  color: #000000;\n",
              "  border: 1.3px solid red;\n",
              "  color: black;\n",
              "}\n",
              "#T_9c187_row7_col13 {\n",
              "  background-color: #ede8f3;\n",
              "  color: #000000;\n",
              "  border: 1.3px solid red;\n",
              "  color: black;\n",
              "}\n",
              "</style>\n",
              "<table id=\"T_9c187_\" class=\"dataframe\">\n",
              "  <thead>\n",
              "    <tr>\n",
              "      <th class=\"blank level0\" >&nbsp;</th>\n",
              "      <th class=\"col_heading level0 col0\" >id</th>\n",
              "      <th class=\"col_heading level0 col1\" >age</th>\n",
              "      <th class=\"col_heading level0 col2\" >education</th>\n",
              "      <th class=\"col_heading level0 col3\" >cigsPerDay</th>\n",
              "      <th class=\"col_heading level0 col4\" >BPMeds</th>\n",
              "      <th class=\"col_heading level0 col5\" >prevalentStroke</th>\n",
              "      <th class=\"col_heading level0 col6\" >prevalentHyp</th>\n",
              "      <th class=\"col_heading level0 col7\" >diabetes</th>\n",
              "      <th class=\"col_heading level0 col8\" >totChol</th>\n",
              "      <th class=\"col_heading level0 col9\" >sysBP</th>\n",
              "      <th class=\"col_heading level0 col10\" >diaBP</th>\n",
              "      <th class=\"col_heading level0 col11\" >BMI</th>\n",
              "      <th class=\"col_heading level0 col12\" >heartRate</th>\n",
              "      <th class=\"col_heading level0 col13\" >glucose</th>\n",
              "      <th class=\"col_heading level0 col14\" >TenYearCHD</th>\n",
              "    </tr>\n",
              "  </thead>\n",
              "  <tbody>\n",
              "    <tr>\n",
              "      <th id=\"T_9c187_level0_row0\" class=\"row_heading level0 row0\" >count</th>\n",
              "      <td id=\"T_9c187_row0_col0\" class=\"data row0 col0\" >3390.000000</td>\n",
              "      <td id=\"T_9c187_row0_col1\" class=\"data row0 col1\" >3390.000000</td>\n",
              "      <td id=\"T_9c187_row0_col2\" class=\"data row0 col2\" >3303.000000</td>\n",
              "      <td id=\"T_9c187_row0_col3\" class=\"data row0 col3\" >3368.000000</td>\n",
              "      <td id=\"T_9c187_row0_col4\" class=\"data row0 col4\" >3346.000000</td>\n",
              "      <td id=\"T_9c187_row0_col5\" class=\"data row0 col5\" >3390.000000</td>\n",
              "      <td id=\"T_9c187_row0_col6\" class=\"data row0 col6\" >3390.000000</td>\n",
              "      <td id=\"T_9c187_row0_col7\" class=\"data row0 col7\" >3390.000000</td>\n",
              "      <td id=\"T_9c187_row0_col8\" class=\"data row0 col8\" >3352.000000</td>\n",
              "      <td id=\"T_9c187_row0_col9\" class=\"data row0 col9\" >3390.000000</td>\n",
              "      <td id=\"T_9c187_row0_col10\" class=\"data row0 col10\" >3390.000000</td>\n",
              "      <td id=\"T_9c187_row0_col11\" class=\"data row0 col11\" >3376.000000</td>\n",
              "      <td id=\"T_9c187_row0_col12\" class=\"data row0 col12\" >3389.000000</td>\n",
              "      <td id=\"T_9c187_row0_col13\" class=\"data row0 col13\" >3086.000000</td>\n",
              "      <td id=\"T_9c187_row0_col14\" class=\"data row0 col14\" >3390.000000</td>\n",
              "    </tr>\n",
              "    <tr>\n",
              "      <th id=\"T_9c187_level0_row1\" class=\"row_heading level0 row1\" >mean</th>\n",
              "      <td id=\"T_9c187_row1_col0\" class=\"data row1 col0\" >1694.500000</td>\n",
              "      <td id=\"T_9c187_row1_col1\" class=\"data row1 col1\" >49.540000</td>\n",
              "      <td id=\"T_9c187_row1_col2\" class=\"data row1 col2\" >1.970000</td>\n",
              "      <td id=\"T_9c187_row1_col3\" class=\"data row1 col3\" >9.070000</td>\n",
              "      <td id=\"T_9c187_row1_col4\" class=\"data row1 col4\" >0.030000</td>\n",
              "      <td id=\"T_9c187_row1_col5\" class=\"data row1 col5\" >0.010000</td>\n",
              "      <td id=\"T_9c187_row1_col6\" class=\"data row1 col6\" >0.320000</td>\n",
              "      <td id=\"T_9c187_row1_col7\" class=\"data row1 col7\" >0.030000</td>\n",
              "      <td id=\"T_9c187_row1_col8\" class=\"data row1 col8\" >237.070000</td>\n",
              "      <td id=\"T_9c187_row1_col9\" class=\"data row1 col9\" >132.600000</td>\n",
              "      <td id=\"T_9c187_row1_col10\" class=\"data row1 col10\" >82.880000</td>\n",
              "      <td id=\"T_9c187_row1_col11\" class=\"data row1 col11\" >25.790000</td>\n",
              "      <td id=\"T_9c187_row1_col12\" class=\"data row1 col12\" >75.980000</td>\n",
              "      <td id=\"T_9c187_row1_col13\" class=\"data row1 col13\" >82.090000</td>\n",
              "      <td id=\"T_9c187_row1_col14\" class=\"data row1 col14\" >0.150000</td>\n",
              "    </tr>\n",
              "    <tr>\n",
              "      <th id=\"T_9c187_level0_row2\" class=\"row_heading level0 row2\" >std</th>\n",
              "      <td id=\"T_9c187_row2_col0\" class=\"data row2 col0\" >978.750000</td>\n",
              "      <td id=\"T_9c187_row2_col1\" class=\"data row2 col1\" >8.590000</td>\n",
              "      <td id=\"T_9c187_row2_col2\" class=\"data row2 col2\" >1.020000</td>\n",
              "      <td id=\"T_9c187_row2_col3\" class=\"data row2 col3\" >11.880000</td>\n",
              "      <td id=\"T_9c187_row2_col4\" class=\"data row2 col4\" >0.170000</td>\n",
              "      <td id=\"T_9c187_row2_col5\" class=\"data row2 col5\" >0.080000</td>\n",
              "      <td id=\"T_9c187_row2_col6\" class=\"data row2 col6\" >0.460000</td>\n",
              "      <td id=\"T_9c187_row2_col7\" class=\"data row2 col7\" >0.160000</td>\n",
              "      <td id=\"T_9c187_row2_col8\" class=\"data row2 col8\" >45.250000</td>\n",
              "      <td id=\"T_9c187_row2_col9\" class=\"data row2 col9\" >22.290000</td>\n",
              "      <td id=\"T_9c187_row2_col10\" class=\"data row2 col10\" >12.020000</td>\n",
              "      <td id=\"T_9c187_row2_col11\" class=\"data row2 col11\" >4.120000</td>\n",
              "      <td id=\"T_9c187_row2_col12\" class=\"data row2 col12\" >11.970000</td>\n",
              "      <td id=\"T_9c187_row2_col13\" class=\"data row2 col13\" >24.240000</td>\n",
              "      <td id=\"T_9c187_row2_col14\" class=\"data row2 col14\" >0.360000</td>\n",
              "    </tr>\n",
              "    <tr>\n",
              "      <th id=\"T_9c187_level0_row3\" class=\"row_heading level0 row3\" >min</th>\n",
              "      <td id=\"T_9c187_row3_col0\" class=\"data row3 col0\" >0.000000</td>\n",
              "      <td id=\"T_9c187_row3_col1\" class=\"data row3 col1\" >32.000000</td>\n",
              "      <td id=\"T_9c187_row3_col2\" class=\"data row3 col2\" >1.000000</td>\n",
              "      <td id=\"T_9c187_row3_col3\" class=\"data row3 col3\" >0.000000</td>\n",
              "      <td id=\"T_9c187_row3_col4\" class=\"data row3 col4\" >0.000000</td>\n",
              "      <td id=\"T_9c187_row3_col5\" class=\"data row3 col5\" >0.000000</td>\n",
              "      <td id=\"T_9c187_row3_col6\" class=\"data row3 col6\" >0.000000</td>\n",
              "      <td id=\"T_9c187_row3_col7\" class=\"data row3 col7\" >0.000000</td>\n",
              "      <td id=\"T_9c187_row3_col8\" class=\"data row3 col8\" >107.000000</td>\n",
              "      <td id=\"T_9c187_row3_col9\" class=\"data row3 col9\" >83.500000</td>\n",
              "      <td id=\"T_9c187_row3_col10\" class=\"data row3 col10\" >48.000000</td>\n",
              "      <td id=\"T_9c187_row3_col11\" class=\"data row3 col11\" >15.960000</td>\n",
              "      <td id=\"T_9c187_row3_col12\" class=\"data row3 col12\" >45.000000</td>\n",
              "      <td id=\"T_9c187_row3_col13\" class=\"data row3 col13\" >40.000000</td>\n",
              "      <td id=\"T_9c187_row3_col14\" class=\"data row3 col14\" >0.000000</td>\n",
              "    </tr>\n",
              "    <tr>\n",
              "      <th id=\"T_9c187_level0_row4\" class=\"row_heading level0 row4\" >25%</th>\n",
              "      <td id=\"T_9c187_row4_col0\" class=\"data row4 col0\" >847.250000</td>\n",
              "      <td id=\"T_9c187_row4_col1\" class=\"data row4 col1\" >42.000000</td>\n",
              "      <td id=\"T_9c187_row4_col2\" class=\"data row4 col2\" >1.000000</td>\n",
              "      <td id=\"T_9c187_row4_col3\" class=\"data row4 col3\" >0.000000</td>\n",
              "      <td id=\"T_9c187_row4_col4\" class=\"data row4 col4\" >0.000000</td>\n",
              "      <td id=\"T_9c187_row4_col5\" class=\"data row4 col5\" >0.000000</td>\n",
              "      <td id=\"T_9c187_row4_col6\" class=\"data row4 col6\" >0.000000</td>\n",
              "      <td id=\"T_9c187_row4_col7\" class=\"data row4 col7\" >0.000000</td>\n",
              "      <td id=\"T_9c187_row4_col8\" class=\"data row4 col8\" >206.000000</td>\n",
              "      <td id=\"T_9c187_row4_col9\" class=\"data row4 col9\" >117.000000</td>\n",
              "      <td id=\"T_9c187_row4_col10\" class=\"data row4 col10\" >74.500000</td>\n",
              "      <td id=\"T_9c187_row4_col11\" class=\"data row4 col11\" >23.020000</td>\n",
              "      <td id=\"T_9c187_row4_col12\" class=\"data row4 col12\" >68.000000</td>\n",
              "      <td id=\"T_9c187_row4_col13\" class=\"data row4 col13\" >71.000000</td>\n",
              "      <td id=\"T_9c187_row4_col14\" class=\"data row4 col14\" >0.000000</td>\n",
              "    </tr>\n",
              "    <tr>\n",
              "      <th id=\"T_9c187_level0_row5\" class=\"row_heading level0 row5\" >50%</th>\n",
              "      <td id=\"T_9c187_row5_col0\" class=\"data row5 col0\" >1694.500000</td>\n",
              "      <td id=\"T_9c187_row5_col1\" class=\"data row5 col1\" >49.000000</td>\n",
              "      <td id=\"T_9c187_row5_col2\" class=\"data row5 col2\" >2.000000</td>\n",
              "      <td id=\"T_9c187_row5_col3\" class=\"data row5 col3\" >0.000000</td>\n",
              "      <td id=\"T_9c187_row5_col4\" class=\"data row5 col4\" >0.000000</td>\n",
              "      <td id=\"T_9c187_row5_col5\" class=\"data row5 col5\" >0.000000</td>\n",
              "      <td id=\"T_9c187_row5_col6\" class=\"data row5 col6\" >0.000000</td>\n",
              "      <td id=\"T_9c187_row5_col7\" class=\"data row5 col7\" >0.000000</td>\n",
              "      <td id=\"T_9c187_row5_col8\" class=\"data row5 col8\" >234.000000</td>\n",
              "      <td id=\"T_9c187_row5_col9\" class=\"data row5 col9\" >128.500000</td>\n",
              "      <td id=\"T_9c187_row5_col10\" class=\"data row5 col10\" >82.000000</td>\n",
              "      <td id=\"T_9c187_row5_col11\" class=\"data row5 col11\" >25.380000</td>\n",
              "      <td id=\"T_9c187_row5_col12\" class=\"data row5 col12\" >75.000000</td>\n",
              "      <td id=\"T_9c187_row5_col13\" class=\"data row5 col13\" >78.000000</td>\n",
              "      <td id=\"T_9c187_row5_col14\" class=\"data row5 col14\" >0.000000</td>\n",
              "    </tr>\n",
              "    <tr>\n",
              "      <th id=\"T_9c187_level0_row6\" class=\"row_heading level0 row6\" >75%</th>\n",
              "      <td id=\"T_9c187_row6_col0\" class=\"data row6 col0\" >2541.750000</td>\n",
              "      <td id=\"T_9c187_row6_col1\" class=\"data row6 col1\" >56.000000</td>\n",
              "      <td id=\"T_9c187_row6_col2\" class=\"data row6 col2\" >3.000000</td>\n",
              "      <td id=\"T_9c187_row6_col3\" class=\"data row6 col3\" >20.000000</td>\n",
              "      <td id=\"T_9c187_row6_col4\" class=\"data row6 col4\" >0.000000</td>\n",
              "      <td id=\"T_9c187_row6_col5\" class=\"data row6 col5\" >0.000000</td>\n",
              "      <td id=\"T_9c187_row6_col6\" class=\"data row6 col6\" >1.000000</td>\n",
              "      <td id=\"T_9c187_row6_col7\" class=\"data row6 col7\" >0.000000</td>\n",
              "      <td id=\"T_9c187_row6_col8\" class=\"data row6 col8\" >264.000000</td>\n",
              "      <td id=\"T_9c187_row6_col9\" class=\"data row6 col9\" >144.000000</td>\n",
              "      <td id=\"T_9c187_row6_col10\" class=\"data row6 col10\" >90.000000</td>\n",
              "      <td id=\"T_9c187_row6_col11\" class=\"data row6 col11\" >28.040000</td>\n",
              "      <td id=\"T_9c187_row6_col12\" class=\"data row6 col12\" >83.000000</td>\n",
              "      <td id=\"T_9c187_row6_col13\" class=\"data row6 col13\" >87.000000</td>\n",
              "      <td id=\"T_9c187_row6_col14\" class=\"data row6 col14\" >0.000000</td>\n",
              "    </tr>\n",
              "    <tr>\n",
              "      <th id=\"T_9c187_level0_row7\" class=\"row_heading level0 row7\" >max</th>\n",
              "      <td id=\"T_9c187_row7_col0\" class=\"data row7 col0\" >3389.000000</td>\n",
              "      <td id=\"T_9c187_row7_col1\" class=\"data row7 col1\" >70.000000</td>\n",
              "      <td id=\"T_9c187_row7_col2\" class=\"data row7 col2\" >4.000000</td>\n",
              "      <td id=\"T_9c187_row7_col3\" class=\"data row7 col3\" >70.000000</td>\n",
              "      <td id=\"T_9c187_row7_col4\" class=\"data row7 col4\" >1.000000</td>\n",
              "      <td id=\"T_9c187_row7_col5\" class=\"data row7 col5\" >1.000000</td>\n",
              "      <td id=\"T_9c187_row7_col6\" class=\"data row7 col6\" >1.000000</td>\n",
              "      <td id=\"T_9c187_row7_col7\" class=\"data row7 col7\" >1.000000</td>\n",
              "      <td id=\"T_9c187_row7_col8\" class=\"data row7 col8\" >696.000000</td>\n",
              "      <td id=\"T_9c187_row7_col9\" class=\"data row7 col9\" >295.000000</td>\n",
              "      <td id=\"T_9c187_row7_col10\" class=\"data row7 col10\" >142.500000</td>\n",
              "      <td id=\"T_9c187_row7_col11\" class=\"data row7 col11\" >56.800000</td>\n",
              "      <td id=\"T_9c187_row7_col12\" class=\"data row7 col12\" >143.000000</td>\n",
              "      <td id=\"T_9c187_row7_col13\" class=\"data row7 col13\" >394.000000</td>\n",
              "      <td id=\"T_9c187_row7_col14\" class=\"data row7 col14\" >1.000000</td>\n",
              "    </tr>\n",
              "  </tbody>\n",
              "</table>\n"
            ]
          },
          "metadata": {},
          "execution_count": 13
        }
      ]
    },
    {
      "cell_type": "markdown",
      "source": [
        "### Variables Description "
      ],
      "metadata": {
        "id": "PBTbrJXOngz2"
      }
    },
    {
      "cell_type": "markdown",
      "source": [
        "#### Column Details\n",
        "\n",
        "| Field | Description || Field | Description |\n",
        "|-------|-------------||-------|-------------|\n",
        "|Age|Age of the patient||totChol|Cholestrol measure|\n",
        "|Education|||sysBP|systolic blood pressure|\n",
        "|Sex|male or female(\"M\" or \"F\")||diaBP|diastolic blood pressure|\n",
        "|is_Smoking|Whether smoking currently or not||BMI|Body Mass Index|\n",
        "|cigsPerDay|Cigarettes smoked per day||heartRate|Heart Rate Measure|\n",
        "|BPMeds|whether or not the patient was on blood pressure medication||glucose|Level of glucose in th body|\n",
        "|prevalentStroke|whether or not the patient had previously had a stroke||prevalentHyp| whether or not the patient was hypertensive |\n",
        "|diabetes|Patient has Diabetes or not||TenYearCHD|10-year risk of coronary heart disease CHD(binary: “1”, means “Yes”, “0” means “No”|"
      ],
      "metadata": {
        "id": "aJV4KIxSnxay"
      }
    },
    {
      "cell_type": "markdown",
      "source": [
        "### Check Unique Values for each variable."
      ],
      "metadata": {
        "id": "u3PMJOP6ngxN"
      }
    },
    {
      "cell_type": "code",
      "source": [
        "# Check Unique Values for each variable.\n",
        "for col in crp_df.columns:\n",
        "  uniques=crp_df[col].unique()\n",
        "  print(uniques)"
      ],
      "metadata": {
        "id": "zms12Yq5n-jE",
        "colab": {
          "base_uri": "https://localhost:8080/"
        },
        "outputId": "3b7a6fdb-8bb0-41a7-d798-2447261d1781"
      },
      "execution_count": 20,
      "outputs": [
        {
          "output_type": "stream",
          "name": "stdout",
          "text": [
            "[   0    1    2 ... 3387 3388 3389]\n",
            "[64 36 46 50 61 41 55 53 43 44 58 51 56 42 38 63 35 54 62 47 34 39 59 45\n",
            " 49 60 40 52 48 37 65 57 68 67 33 66 69 70 32]\n",
            "[ 2.  4.  1.  3. nan]\n",
            "['F' 'M']\n",
            "['YES' 'NO']\n",
            "[ 3.  0. 10. 20. 30. 35. 40. 15.  9. 60. 17. 25.  5. 43.  7. 50. 19. 18.\n",
            "  1. 45.  2.  6. nan 11.  8.  4. 14. 16. 23. 13. 12. 70. 38.]\n",
            "[ 0. nan  1.]\n",
            "[0 1]\n",
            "[0 1]\n",
            "[0 1]\n",
            "[221. 212. 250. 233. 241. 272. 238. 295. 220. 326.  nan 210. 213. 227.\n",
            " 188. 240. 257. 267. 232. 199. 175. 164. 226. 248. 245. 279. 273. 252.\n",
            " 198. 266. 216. 237. 193. 293. 180. 206. 215. 208. 262. 270. 292. 346.\n",
            " 202. 340. 334. 351. 235. 243. 196. 275. 186. 190. 268. 234. 264. 156.\n",
            " 260. 225. 183. 246. 174. 288. 254. 150. 211. 161. 274. 214. 195. 165.\n",
            " 302. 265. 251. 205. 209. 258. 222. 247. 189. 173. 281. 382. 181. 200.\n",
            " 244. 218. 261. 229. 291. 312. 170. 176. 290. 204. 239. 162. 314. 194.\n",
            " 271. 313. 305. 285. 169. 224. 201. 185. 307. 179. 280. 219. 391. 300.\n",
            " 253. 345. 278. 282. 255. 191. 439. 327. 287. 236. 332. 207. 230. 155.\n",
            " 335. 325. 223. 231. 197. 184. 310. 157. 228. 166. 303. 320. 163. 259.\n",
            " 178. 137. 217. 342. 328. 168. 167. 299. 304. 152. 289. 308. 192. 160.\n",
            " 296. 203. 154. 600. 187. 311. 263. 318. 309. 172. 242. 350. 356. 317.\n",
            " 696. 315. 269. 171. 177. 249. 256. 344. 286. 284. 322. 333. 158. 294.\n",
            " 145. 361. 276. 277. 133. 283. 464. 298. 124. 297. 182. 135. 362. 321.\n",
            " 390. 319. 360. 323. 306. 329. 352. 366. 339. 144. 148. 370. 372. 365.\n",
            " 331. 330. 113. 143. 159. 392. 353. 367. 316. 153. 398. 149. 453. 119.\n",
            " 301. 358. 363. 129. 107. 336. 354. 373. 410. 380. 140. 432. 355. 337.\n",
            " 126. 338. 364.]\n",
            "[148.  168.  116.  158.  136.5 182.  232.  102.  126.  144.  185.  138.\n",
            "  96.  146.5 160.  146.  163.  129.  122.5 130.  141.  142.  113.  172.5\n",
            " 107.  105.  122.  155.  134.  152.  142.5 149.  106.5 186.5 114.  104.\n",
            " 101.  112.  165.  131.  111.  133.  109.  121.5 120.  178.  150.  152.5\n",
            " 193.  151.  118.5 125.  110.  136.  113.5 127.  115.  108.  103.  124.\n",
            " 135.  118.  132.  128.  100.  115.5 127.5 123.  174.5 129.5 117.  117.5\n",
            " 147.  177.5 109.5 157.5 106.  112.5 107.5 137.  124.5 192.  207.  119.\n",
            " 179.5 157.  176.   90.  140.  159.  150.5 202.  116.5 108.5 158.5 169.\n",
            " 121.   95.  120.5 156.  145.  141.5 143.5 119.5 131.5 125.5 180.  105.5\n",
            " 126.5 153.  154.  182.5 166.5 175.  170.  143.   99.  244.  161.5 100.5\n",
            " 132.5 139.  186.   94.  172.  149.5 137.5 191.  191.5 159.5 160.5 154.5\n",
            " 164.5 166.  195.  102.5 145.5 185.5  98.  128.5 147.5  97.  190.  212.\n",
            " 156.5 130.5  96.5 144.5 174.  114.5 167.  210.  202.5 140.5 151.5 148.5\n",
            " 215.  161.  153.5 180.5 184.  196.  167.5 248.  181.  139.5 135.5 208.\n",
            " 168.5 134.5  99.5 173.  194.  183.  155.5 204.   83.5 188.  214.  188.5\n",
            " 123.5 187.  192.5 177.  197.  111.5 162.  164.  230.  169.5 138.5  93.5\n",
            " 205.  200.  179.  199.   93.  162.5 133.5 189.  171.  198.  163.5 209.\n",
            " 184.5 295.  235.  197.5 101.5 206.   97.5 110.5 243.  205.5 175.5 187.5\n",
            "  95.5  85.  220.  217.  213.   92.5 207.5 171.5 104.5  85.5]\n",
            "[ 85.   98.   71.   88.  121.  136.   68.   78.   81.   86.5  62.   97.\n",
            " 120.   89.  105.   93.   91.   92.   86.   73.   70.   74.5  84.   80.\n",
            "  82.   70.5  74.   63.   65.   76.   64.  106.   75.5  79.5  89.5  83.\n",
            "  94.   97.5  75.   57.   90.   87.  103.   96.  104.   82.5  80.5  66.5\n",
            " 100.   72.   99.   67.5  77.5  85.5  95.   79.   77.   69.   72.5  73.5\n",
            " 101.5  62.5  96.5  68.5 102.  122.5 114.   60.   84.5 124.  100.5  59.\n",
            "  88.5 108.   66.   67.   95.5 107.   78.5 101.   92.5  81.5  91.5  98.5\n",
            "  93.5 109.5  61.   76.5 115.5  87.5  83.5 109.   64.5 104.5  94.5 110.\n",
            "  55.  102.5  59.5 107.5 130.   61.5 129.   65.5  60.5  58.   48.  106.5\n",
            " 116.  118.  111.  115.  113.  117.  103.5  71.5  50.  105.5 112.  135.\n",
            "  54.  112.5 125.   52.  133.  123.  128.  117.5  90.5  63.5  69.5 142.5\n",
            " 110.5  56.   57.5  53.  124.5 119.  108.5  99.5 127.5  51. ]\n",
            "[  nan 29.77 20.35 ... 29.19 19.71 31.09]\n",
            "[ 90.  72.  88.  68.  70.  85.  75.  60.  86.  80.  74. 100.  89.  92.\n",
            "  82.  87.  58.  79.  78.  76.  69.  59.  67.  50.  73.  66.  65.  62.\n",
            " 110.  83.  64.  63.  96.  55.  77. 112.  84.  95.  61. 120.  93.  94.\n",
            " 104.  52.  56.  98. 106.  48.  54.  81. 115. 103.  71. 107.  57. 143.\n",
            "  91.  45. 102. 108.  53.  47.  nan 125. 105. 122.  51. 140.  97.]\n",
            "[ 80.  75.  94.  77.  65.  79.  63.  nan  87.  67.  85. 132.  76. 100.\n",
            "  70.  60.  73.  81.  68.  66.  78.  96.  72.  61.  69. 103.  92. 105.\n",
            "  93.  89.  64.  83. 170.  57.  58.  86.  99. 107.  55.  90. 177.  71.\n",
            " 118.  59.  74.  84.  82.  95. 120. 173.  91. 102. 163.  88.  62. 205.\n",
            "  97. 115.  98. 268. 104. 137. 106. 348. 110. 122. 108. 255. 140. 124.\n",
            " 244. 294. 112. 113. 254. 116.  52.  50. 114. 127.  56. 135.  45. 206.\n",
            "  53. 101. 117. 126. 131. 394. 123. 270. 320. 129. 142.  54. 235.  40.\n",
            " 150. 136. 191.  44. 119. 109. 121.  43. 256. 145.  47. 297. 166. 172.\n",
            "  48. 111. 215. 216. 368. 155. 148. 147. 223. 225. 332. 210. 186. 386.\n",
            " 248. 193. 125. 167. 183. 260. 274.]\n",
            "[1 0]\n"
          ]
        }
      ]
    },
    {
      "cell_type": "markdown",
      "source": [
        "## 3. ***Data Wrangling***"
      ],
      "metadata": {
        "id": "dauF4eBmngu3"
      }
    },
    {
      "cell_type": "markdown",
      "source": [
        "###  Handling Missing Values"
      ],
      "metadata": {
        "id": "bKJF3rekwFvQ"
      }
    },
    {
      "cell_type": "code",
      "source": [
        "# Handling Missing Values & Missing Value Imputation\n",
        "# Replacing null values with median continuos data type \n",
        "crp_df['cigsPerDay'] = crp_df['cigsPerDay'].fillna(crp_df['cigsPerDay'].median())\n",
        "crp_df['totChol'] = crp_df['totChol'].fillna(crp_df['totChol'].median())\n",
        "crp_df['BMI'] = crp_df['BMI'].fillna(crp_df['BMI'].median())\n",
        "crp_df['heartRate'] = crp_df['heartRate'].fillna(crp_df['heartRate'].median())\n",
        "crp_df['glucose'] = crp_df['glucose'].fillna(crp_df['glucose'].median())\n",
        "# Replacing null values with mode for \n",
        "crp_df['education'] = crp_df['education'].fillna(crp_df['education'].mode()[0])\n",
        "crp_df['BPMeds'] = crp_df['BPMeds'].fillna(crp_df['BPMeds'].mode()[0])"
      ],
      "metadata": {
        "id": "wk-9a2fpoLcV"
      },
      "execution_count": 21,
      "outputs": []
    },
    {
      "cell_type": "markdown",
      "source": [
        "#### What all missing value imputation techniques have you used and why did you use those techniques?"
      ],
      "metadata": {
        "id": "9z14ir0J3w5q"
      }
    },
    {
      "cell_type": "markdown",
      "source": [
        "As for the numerical columns we used median to replace null values present we could have used mean value but as we know that mean is affected by outliers whereas median is not affected by outliers. For the categorical data we used mode(returns a repeated value which has been repeated highest) to replace null values "
      ],
      "metadata": {
        "id": "2BYhbdj235xq"
      }
    },
    {
      "cell_type": "markdown",
      "source": [
        "## ***4. Data Vizualization, Storytelling & Experimenting with charts : Understand the relationships between variables***"
      ],
      "metadata": {
        "id": "GF8Ens_Soomf"
      }
    },
    {
      "cell_type": "markdown",
      "source": [
        "#### Chart - 1"
      ],
      "metadata": {
        "id": "0wOQAZs5pc--"
      }
    },
    {
      "cell_type": "code",
      "source": [
        "# Chart - 1 visualization code\n",
        "# target/dependent variable distribution\n",
        "sns.set_style('whitegrid')\n",
        "sns.countplot(x='TenYearCHD', data=crp_df, palette='YlGnBu_r')"
      ],
      "metadata": {
        "id": "7v_ESjsspbW7"
      },
      "execution_count": null,
      "outputs": []
    },
    {
      "cell_type": "markdown",
      "source": [
        "##### 1. Why did you pick the specific chart?"
      ],
      "metadata": {
        "id": "K5QZ13OEpz2H"
      }
    },
    {
      "cell_type": "markdown",
      "source": [
        "Answer Here."
      ],
      "metadata": {
        "id": "XESiWehPqBRc"
      }
    },
    {
      "cell_type": "markdown",
      "source": [
        "##### 2. What is/are the insight(s) found from the chart?"
      ],
      "metadata": {
        "id": "lQ7QKXXCp7Bj"
      }
    },
    {
      "cell_type": "markdown",
      "source": [
        "Answer Here"
      ],
      "metadata": {
        "id": "C_j1G7yiqdRP"
      }
    },
    {
      "cell_type": "markdown",
      "source": [
        "##### 3. Will the gained insights help creating a positive business impact? \n",
        "Are there any insights that lead to negative growth? Justify with specific reason."
      ],
      "metadata": {
        "id": "448CDAPjqfQr"
      }
    },
    {
      "cell_type": "markdown",
      "source": [
        "Answer Here"
      ],
      "metadata": {
        "id": "3cspy4FjqxJW"
      }
    },
    {
      "cell_type": "markdown",
      "source": [
        "#### Chart - 2"
      ],
      "metadata": {
        "id": "KSlN3yHqYklG"
      }
    },
    {
      "cell_type": "code",
      "source": [
        "# Chart - 2 visualization code\n",
        "# Histplots for BMI and Heartrate\n",
        "for col in columns:\n",
        "  fig= plt.subplots(figsize=(13,4))\n",
        "  sns.histplot(data=crp_df, x=col)"
      ],
      "metadata": {
        "id": "R4YgtaqtYklH"
      },
      "execution_count": null,
      "outputs": []
    },
    {
      "cell_type": "markdown",
      "source": [
        "##### 1. Why did you pick the specific chart?"
      ],
      "metadata": {
        "id": "t6dVpIINYklI"
      }
    },
    {
      "cell_type": "markdown",
      "source": [
        "Answer Here."
      ],
      "metadata": {
        "id": "5aaW0BYyYklI"
      }
    },
    {
      "cell_type": "markdown",
      "source": [
        "##### 2. What is/are the insight(s) found from the chart?"
      ],
      "metadata": {
        "id": "ijmpgYnKYklI"
      }
    },
    {
      "cell_type": "markdown",
      "source": [
        "Answer Here"
      ],
      "metadata": {
        "id": "PSx9atu2YklI"
      }
    },
    {
      "cell_type": "markdown",
      "source": [
        "##### 3. Will the gained insights help creating a positive business impact? \n",
        "Are there any insights that lead to negative growth? Justify with specific reason."
      ],
      "metadata": {
        "id": "-JiQyfWJYklI"
      }
    },
    {
      "cell_type": "markdown",
      "source": [
        "Answer Here"
      ],
      "metadata": {
        "id": "BcBbebzrYklV"
      }
    },
    {
      "cell_type": "markdown",
      "source": [
        "#### Chart - 3"
      ],
      "metadata": {
        "id": "EM7whBJCYoAo"
      }
    },
    {
      "cell_type": "code",
      "source": [
        "# Chart - 3 visualization code\n",
        "x = crp_df.groupby('age')['TenYearCHD'].agg(np.sum)\n",
        "\n",
        "plt.figure(figsize=(18,6))\n",
        "plt.plot(x ,  color='blue', marker='*')\n",
        "plt.xticks(rotation=90)\n",
        "plt.xlabel('age---->')\n",
        "plt.ylabel('TenYearCHD---->')\n",
        "plt.title('TenYearCHD vs age')\n",
        "plt.show()"
      ],
      "metadata": {
        "id": "t6GMdE67YoAp"
      },
      "execution_count": null,
      "outputs": []
    },
    {
      "cell_type": "markdown",
      "source": [
        "##### 1. Why did you pick the specific chart?"
      ],
      "metadata": {
        "id": "fge-S5ZAYoAp"
      }
    },
    {
      "cell_type": "markdown",
      "source": [
        "Answer Here."
      ],
      "metadata": {
        "id": "5dBItgRVYoAp"
      }
    },
    {
      "cell_type": "markdown",
      "source": [
        "##### 2. What is/are the insight(s) found from the chart?"
      ],
      "metadata": {
        "id": "85gYPyotYoAp"
      }
    },
    {
      "cell_type": "markdown",
      "source": [
        "Answer Here"
      ],
      "metadata": {
        "id": "4jstXR6OYoAp"
      }
    },
    {
      "cell_type": "markdown",
      "source": [
        "##### 3. Will the gained insights help creating a positive business impact? \n",
        "Are there any insights that lead to negative growth? Justify with specific reason."
      ],
      "metadata": {
        "id": "RoGjAbkUYoAp"
      }
    },
    {
      "cell_type": "markdown",
      "source": [
        "Answer Here"
      ],
      "metadata": {
        "id": "zfJ8IqMcYoAp"
      }
    },
    {
      "cell_type": "markdown",
      "source": [
        "#### Chart - 4"
      ],
      "metadata": {
        "id": "4Of9eVA-YrdM"
      }
    },
    {
      "cell_type": "code",
      "source": [
        "# Chart - 4 visualization code\n",
        "# Relationship between gender and CHD risk\n",
        "fig = plt.figure(figsize=(8,5))\n",
        "sns.countplot(data=crp_df,x='sex',palette=[\"#6aac90\",\"#5833ff\"], hue='TenYearCHD')\n",
        "plt.grid(color='#000000', linestyle=':', axis='y', zorder=0,  dashes=(1,5))\n",
        "plt.xlabel(\"sex\")\n",
        "plt.ylabel(\"Ten year CHD\")\n",
        "plt.show()"
      ],
      "metadata": {
        "id": "irlUoxc8YrdO"
      },
      "execution_count": null,
      "outputs": []
    },
    {
      "cell_type": "markdown",
      "source": [
        "##### 1. Why did you pick the specific chart?"
      ],
      "metadata": {
        "id": "iky9q4vBYrdO"
      }
    },
    {
      "cell_type": "markdown",
      "source": [
        "Answer Here."
      ],
      "metadata": {
        "id": "aJRCwT6DYrdO"
      }
    },
    {
      "cell_type": "markdown",
      "source": [
        "##### 2. What is/are the insight(s) found from the chart?"
      ],
      "metadata": {
        "id": "F6T5p64dYrdO"
      }
    },
    {
      "cell_type": "markdown",
      "source": [
        "Answer Here"
      ],
      "metadata": {
        "id": "Xx8WAJvtYrdO"
      }
    },
    {
      "cell_type": "markdown",
      "source": [
        "##### 3. Will the gained insights help creating a positive business impact? \n",
        "Are there any insights that lead to negative growth? Justify with specific reason."
      ],
      "metadata": {
        "id": "y-Ehk30pYrdP"
      }
    },
    {
      "cell_type": "markdown",
      "source": [
        "Answer Here"
      ],
      "metadata": {
        "id": "jLNxxz7MYrdP"
      }
    },
    {
      "cell_type": "markdown",
      "source": [
        "#### Chart - 5"
      ],
      "metadata": {
        "id": "bamQiAODYuh1"
      }
    },
    {
      "cell_type": "code",
      "source": [
        "# Chart - 5 visualization code\n",
        "# Relationship between sge and cholestrol\n",
        "p=sns.jointplot(x=\"age\", y=\"totChol\", data=crp_df, color=\"g\")\n",
        "plt.subplots_adjust(top=.9)\n",
        "p.fig.suptitle('Age v/s total cholestrol in mg/dl') \n",
        "plt.show()"
      ],
      "metadata": {
        "id": "TIJwrbroYuh3"
      },
      "execution_count": null,
      "outputs": []
    },
    {
      "cell_type": "markdown",
      "source": [
        "##### 1. Why did you pick the specific chart?"
      ],
      "metadata": {
        "id": "QHF8YVU7Yuh3"
      }
    },
    {
      "cell_type": "markdown",
      "source": [
        "Answer Here."
      ],
      "metadata": {
        "id": "dcxuIMRPYuh3"
      }
    },
    {
      "cell_type": "markdown",
      "source": [
        "##### 2. What is/are the insight(s) found from the chart?"
      ],
      "metadata": {
        "id": "GwzvFGzlYuh3"
      }
    },
    {
      "cell_type": "markdown",
      "source": [
        "Answer Here"
      ],
      "metadata": {
        "id": "uyqkiB8YYuh3"
      }
    },
    {
      "cell_type": "markdown",
      "source": [
        "##### 3. Will the gained insights help creating a positive business impact? \n",
        "Are there any insights that lead to negative growth? Justify with specific reason."
      ],
      "metadata": {
        "id": "qYpmQ266Yuh3"
      }
    },
    {
      "cell_type": "markdown",
      "source": [
        "Answer Here"
      ],
      "metadata": {
        "id": "_WtzZ_hCYuh4"
      }
    },
    {
      "cell_type": "markdown",
      "source": [
        "#### Chart - 6"
      ],
      "metadata": {
        "id": "OH-pJp9IphqM"
      }
    },
    {
      "cell_type": "code",
      "source": [
        "# Chart - 6 visualization code\n",
        "# Plot to check how many people smoke\n",
        "sns.catplot(data=crp_df, kind='count', x='sex',hue='is_smoking', palette='Blues')\n",
        "plt.show()"
      ],
      "metadata": {
        "id": "kuRf4wtuphqN"
      },
      "execution_count": null,
      "outputs": []
    },
    {
      "cell_type": "markdown",
      "source": [
        "##### 1. Why did you pick the specific chart?"
      ],
      "metadata": {
        "id": "bbFf2-_FphqN"
      }
    },
    {
      "cell_type": "markdown",
      "source": [
        "Answer Here."
      ],
      "metadata": {
        "id": "loh7H2nzphqN"
      }
    },
    {
      "cell_type": "markdown",
      "source": [
        "##### 2. What is/are the insight(s) found from the chart?"
      ],
      "metadata": {
        "id": "_ouA3fa0phqN"
      }
    },
    {
      "cell_type": "markdown",
      "source": [
        "Answer Here"
      ],
      "metadata": {
        "id": "VECbqPI7phqN"
      }
    },
    {
      "cell_type": "markdown",
      "source": [
        "##### 3. Will the gained insights help creating a positive business impact? \n",
        "Are there any insights that lead to negative growth? Justify with specific reason."
      ],
      "metadata": {
        "id": "Seke61FWphqN"
      }
    },
    {
      "cell_type": "markdown",
      "source": [
        "Answer Here"
      ],
      "metadata": {
        "id": "DW4_bGpfphqN"
      }
    },
    {
      "cell_type": "markdown",
      "source": [
        "#### Chart - 7"
      ],
      "metadata": {
        "id": "PIIx-8_IphqN"
      }
    },
    {
      "cell_type": "code",
      "source": [
        "# Chart - 7 visualization code\n",
        "# Display age distribution\n",
        "fig, ax = plt.subplots(figsize=(15,6))\n",
        "age_dis=pd.DataFrame(cv_df.groupby(['age'])['id'].count())\n",
        "sns.barplot(x=age_dis.index,y=age_dis['id'])\n",
        "plt.ylabel('Counts')\n",
        "plt.title('Age Distrubution')\n"
      ],
      "metadata": {
        "id": "lqAIGUfyphqO"
      },
      "execution_count": null,
      "outputs": []
    },
    {
      "cell_type": "markdown",
      "source": [
        "##### 1. Why did you pick the specific chart?"
      ],
      "metadata": {
        "id": "t27r6nlMphqO"
      }
    },
    {
      "cell_type": "markdown",
      "source": [
        "Answer Here."
      ],
      "metadata": {
        "id": "iv6ro40sphqO"
      }
    },
    {
      "cell_type": "markdown",
      "source": [
        "##### 2. What is/are the insight(s) found from the chart?"
      ],
      "metadata": {
        "id": "r2jJGEOYphqO"
      }
    },
    {
      "cell_type": "markdown",
      "source": [
        "Answer Here"
      ],
      "metadata": {
        "id": "Po6ZPi4hphqO"
      }
    },
    {
      "cell_type": "markdown",
      "source": [
        "##### 3. Will the gained insights help creating a positive business impact? \n",
        "Are there any insights that lead to negative growth? Justify with specific reason."
      ],
      "metadata": {
        "id": "b0JNsNcRphqO"
      }
    },
    {
      "cell_type": "markdown",
      "source": [
        "Answer Here"
      ],
      "metadata": {
        "id": "xvSq8iUTphqO"
      }
    },
    {
      "cell_type": "markdown",
      "source": [
        "#### Chart - 8"
      ],
      "metadata": {
        "id": "BZR9WyysphqO"
      }
    },
    {
      "cell_type": "code",
      "source": [
        "# Chart - 8 visualization code \n"
      ],
      "metadata": {
        "id": "TdPTWpAVphqO"
      },
      "execution_count": null,
      "outputs": []
    },
    {
      "cell_type": "markdown",
      "source": [
        "##### 1. Why did you pick the specific chart?"
      ],
      "metadata": {
        "id": "jj7wYXLtphqO"
      }
    },
    {
      "cell_type": "markdown",
      "source": [
        "Answer Here."
      ],
      "metadata": {
        "id": "Ob8u6rCTphqO"
      }
    },
    {
      "cell_type": "markdown",
      "source": [
        "##### 2. What is/are the insight(s) found from the chart?"
      ],
      "metadata": {
        "id": "eZrbJ2SmphqO"
      }
    },
    {
      "cell_type": "markdown",
      "source": [
        "Answer Here"
      ],
      "metadata": {
        "id": "mZtgC_hjphqO"
      }
    },
    {
      "cell_type": "markdown",
      "source": [
        "##### 3. Will the gained insights help creating a positive business impact? \n",
        "Are there any insights that lead to negative growth? Justify with specific reason."
      ],
      "metadata": {
        "id": "rFu4xreNphqO"
      }
    },
    {
      "cell_type": "markdown",
      "source": [
        "Answer Here"
      ],
      "metadata": {
        "id": "ey_0qi68phqO"
      }
    },
    {
      "cell_type": "markdown",
      "source": [
        "#### Chart - 9"
      ],
      "metadata": {
        "id": "YJ55k-q6phqO"
      }
    },
    {
      "cell_type": "code",
      "source": [
        "# Chart - 9 visualization code"
      ],
      "metadata": {
        "id": "B2aS4O1ophqO"
      },
      "execution_count": null,
      "outputs": []
    },
    {
      "cell_type": "markdown",
      "source": [
        "##### 1. Why did you pick the specific chart?"
      ],
      "metadata": {
        "id": "gCFgpxoyphqP"
      }
    },
    {
      "cell_type": "markdown",
      "source": [
        "Answer Here."
      ],
      "metadata": {
        "id": "TVxDimi2phqP"
      }
    },
    {
      "cell_type": "markdown",
      "source": [
        "##### 2. What is/are the insight(s) found from the chart?"
      ],
      "metadata": {
        "id": "OVtJsKN_phqQ"
      }
    },
    {
      "cell_type": "markdown",
      "source": [
        "Answer Here"
      ],
      "metadata": {
        "id": "ngGi97qjphqQ"
      }
    },
    {
      "cell_type": "markdown",
      "source": [
        "##### 3. Will the gained insights help creating a positive business impact? \n",
        "Are there any insights that lead to negative growth? Justify with specific reason."
      ],
      "metadata": {
        "id": "lssrdh5qphqQ"
      }
    },
    {
      "cell_type": "markdown",
      "source": [
        "Answer Here"
      ],
      "metadata": {
        "id": "tBpY5ekJphqQ"
      }
    },
    {
      "cell_type": "markdown",
      "source": [
        "#### Chart - 10"
      ],
      "metadata": {
        "id": "U2RJ9gkRphqQ"
      }
    },
    {
      "cell_type": "code",
      "source": [
        "# Chart - 10 visualization code"
      ],
      "metadata": {
        "id": "GM7a4YP4phqQ"
      },
      "execution_count": null,
      "outputs": []
    },
    {
      "cell_type": "markdown",
      "source": [
        "##### 1. Why did you pick the specific chart?"
      ],
      "metadata": {
        "id": "1M8mcRywphqQ"
      }
    },
    {
      "cell_type": "markdown",
      "source": [
        "Answer Here."
      ],
      "metadata": {
        "id": "8agQvks0phqQ"
      }
    },
    {
      "cell_type": "markdown",
      "source": [
        "##### 2. What is/are the insight(s) found from the chart?"
      ],
      "metadata": {
        "id": "tgIPom80phqQ"
      }
    },
    {
      "cell_type": "markdown",
      "source": [
        "Answer Here"
      ],
      "metadata": {
        "id": "Qp13pnNzphqQ"
      }
    },
    {
      "cell_type": "markdown",
      "source": [
        "##### 3. Will the gained insights help creating a positive business impact? \n",
        "Are there any insights that lead to negative growth? Justify with specific reason."
      ],
      "metadata": {
        "id": "JMzcOPDDphqR"
      }
    },
    {
      "cell_type": "markdown",
      "source": [
        "Answer Here"
      ],
      "metadata": {
        "id": "R4Ka1PC2phqR"
      }
    },
    {
      "cell_type": "markdown",
      "source": [
        "#### Chart - 11"
      ],
      "metadata": {
        "id": "x-EpHcCOp1ci"
      }
    },
    {
      "cell_type": "code",
      "source": [
        "# Chart - 11 visualization code"
      ],
      "metadata": {
        "id": "mAQTIvtqp1cj"
      },
      "execution_count": null,
      "outputs": []
    },
    {
      "cell_type": "markdown",
      "source": [
        "##### 1. Why did you pick the specific chart?"
      ],
      "metadata": {
        "id": "X_VqEhTip1ck"
      }
    },
    {
      "cell_type": "markdown",
      "source": [
        "Answer Here."
      ],
      "metadata": {
        "id": "-vsMzt_np1ck"
      }
    },
    {
      "cell_type": "markdown",
      "source": [
        "##### 2. What is/are the insight(s) found from the chart?"
      ],
      "metadata": {
        "id": "8zGJKyg5p1ck"
      }
    },
    {
      "cell_type": "markdown",
      "source": [
        "Answer Here"
      ],
      "metadata": {
        "id": "ZYdMsrqVp1ck"
      }
    },
    {
      "cell_type": "markdown",
      "source": [
        "##### 3. Will the gained insights help creating a positive business impact? \n",
        "Are there any insights that lead to negative growth? Justify with specific reason."
      ],
      "metadata": {
        "id": "PVzmfK_Ep1ck"
      }
    },
    {
      "cell_type": "markdown",
      "source": [
        "Answer Here"
      ],
      "metadata": {
        "id": "druuKYZpp1ck"
      }
    },
    {
      "cell_type": "markdown",
      "source": [
        "#### Chart - 12"
      ],
      "metadata": {
        "id": "n3dbpmDWp1ck"
      }
    },
    {
      "cell_type": "code",
      "source": [
        "# Chart - 12 visualization code"
      ],
      "metadata": {
        "id": "bwevp1tKp1ck"
      },
      "execution_count": null,
      "outputs": []
    },
    {
      "cell_type": "markdown",
      "source": [
        "##### 1. Why did you pick the specific chart?"
      ],
      "metadata": {
        "id": "ylSl6qgtp1ck"
      }
    },
    {
      "cell_type": "markdown",
      "source": [
        "Answer Here."
      ],
      "metadata": {
        "id": "m2xqNkiQp1ck"
      }
    },
    {
      "cell_type": "markdown",
      "source": [
        "##### 2. What is/are the insight(s) found from the chart?"
      ],
      "metadata": {
        "id": "ZWILFDl5p1ck"
      }
    },
    {
      "cell_type": "markdown",
      "source": [
        "Answer Here"
      ],
      "metadata": {
        "id": "x-lUsV2mp1ck"
      }
    },
    {
      "cell_type": "markdown",
      "source": [
        "##### 3. Will the gained insights help creating a positive business impact? \n",
        "Are there any insights that lead to negative growth? Justify with specific reason."
      ],
      "metadata": {
        "id": "M7G43BXep1ck"
      }
    },
    {
      "cell_type": "markdown",
      "source": [
        "Answer Here"
      ],
      "metadata": {
        "id": "5wwDJXsLp1cl"
      }
    },
    {
      "cell_type": "markdown",
      "source": [
        "#### Chart - 13"
      ],
      "metadata": {
        "id": "Ag9LCva-p1cl"
      }
    },
    {
      "cell_type": "code",
      "source": [
        "# Chart - 13 visualization code"
      ],
      "metadata": {
        "id": "EUfxeq9-p1cl"
      },
      "execution_count": null,
      "outputs": []
    },
    {
      "cell_type": "markdown",
      "source": [
        "##### 1. Why did you pick the specific chart?"
      ],
      "metadata": {
        "id": "E6MkPsBcp1cl"
      }
    },
    {
      "cell_type": "markdown",
      "source": [
        "Answer Here."
      ],
      "metadata": {
        "id": "V22bRsFWp1cl"
      }
    },
    {
      "cell_type": "markdown",
      "source": [
        "##### 2. What is/are the insight(s) found from the chart?"
      ],
      "metadata": {
        "id": "2cELzS2fp1cl"
      }
    },
    {
      "cell_type": "markdown",
      "source": [
        "Answer Here"
      ],
      "metadata": {
        "id": "ozQPc2_Ip1cl"
      }
    },
    {
      "cell_type": "markdown",
      "source": [
        "##### 3. Will the gained insights help creating a positive business impact? \n",
        "Are there any insights that lead to negative growth? Justify with specific reason."
      ],
      "metadata": {
        "id": "3MPXvC8up1cl"
      }
    },
    {
      "cell_type": "markdown",
      "source": [
        "Answer Here"
      ],
      "metadata": {
        "id": "GL8l1tdLp1cl"
      }
    },
    {
      "cell_type": "markdown",
      "source": [
        "#### Chart - 14 - Correlation Heatmap"
      ],
      "metadata": {
        "id": "NC_X3p0fY2L0"
      }
    },
    {
      "cell_type": "code",
      "source": [
        "# Correlation Heatmap visualization code \n",
        "corr=crp_df.corr()\n",
        "mask = np.zeros_like(corr, dtype=np.bool)\n",
        "mask[np.triu_indices_from(mask)] = True\n",
        "f, ax = plt.subplots(figsize=(18, 10))\n",
        "sns.heatmap(corr, mask=mask, vmax=.5, center=0, annot=True, linewidths=1.0, cbar_kws={\"shrink\": .5})"
      ],
      "metadata": {
        "id": "xyC9zolEZNRQ"
      },
      "execution_count": null,
      "outputs": []
    },
    {
      "cell_type": "markdown",
      "source": [
        "##### 1. Why did you pick the specific chart?"
      ],
      "metadata": {
        "id": "UV0SzAkaZNRQ"
      }
    },
    {
      "cell_type": "markdown",
      "source": [
        "Answer Here."
      ],
      "metadata": {
        "id": "DVPuT8LYZNRQ"
      }
    },
    {
      "cell_type": "markdown",
      "source": [
        "##### 2. What is/are the insight(s) found from the chart?"
      ],
      "metadata": {
        "id": "YPEH6qLeZNRQ"
      }
    },
    {
      "cell_type": "markdown",
      "source": [
        "Answer Here"
      ],
      "metadata": {
        "id": "bfSqtnDqZNRR"
      }
    },
    {
      "cell_type": "markdown",
      "source": [
        "#### Chart - 15 - Pair Plot "
      ],
      "metadata": {
        "id": "q29F0dvdveiT"
      }
    },
    {
      "cell_type": "code",
      "source": [
        "# Pair Plot visualization code\n",
        "# Multivariate analysis\n",
        "# color=sns.set_palette('pastel')\n",
        "# sns.pairplot(crp_df[columns], palette= color)"
      ],
      "metadata": {
        "id": "o58-TEIhveiU"
      },
      "execution_count": null,
      "outputs": []
    },
    {
      "cell_type": "markdown",
      "source": [
        "##### 1. Why did you pick the specific chart?"
      ],
      "metadata": {
        "id": "EXh0U9oCveiU"
      }
    },
    {
      "cell_type": "markdown",
      "source": [
        "Answer Here."
      ],
      "metadata": {
        "id": "eMmPjTByveiU"
      }
    },
    {
      "cell_type": "markdown",
      "source": [
        "##### 2. What is/are the insight(s) found from the chart?"
      ],
      "metadata": {
        "id": "22aHeOlLveiV"
      }
    },
    {
      "cell_type": "markdown",
      "source": [
        "Answer Here"
      ],
      "metadata": {
        "id": "uPQ8RGwHveiV"
      }
    },
    {
      "cell_type": "markdown",
      "source": [
        "## ***5. Hypothesis Testing***"
      ],
      "metadata": {
        "id": "g-ATYxFrGrvw"
      }
    },
    {
      "cell_type": "markdown",
      "source": [
        "### Based on your chart experiments, define three hypothetical statements from the dataset. In the next three questions, perform hypothesis testing to obtain final conclusion about the statements through your code and statistical testing."
      ],
      "metadata": {
        "id": "Yfr_Vlr8HBkt"
      }
    },
    {
      "cell_type": "markdown",
      "source": [
        "Answer Here."
      ],
      "metadata": {
        "id": "-7MS06SUHkB-"
      }
    },
    {
      "cell_type": "markdown",
      "source": [
        "### Hypothetical Statement - 1"
      ],
      "metadata": {
        "id": "8yEUt7NnHlrM"
      }
    },
    {
      "cell_type": "markdown",
      "source": [
        "#### 1. State Your research hypothesis as a null hypothesis and alternate hypothesis."
      ],
      "metadata": {
        "id": "tEA2Xm5dHt1r"
      }
    },
    {
      "cell_type": "markdown",
      "source": [
        "Answer Here."
      ],
      "metadata": {
        "id": "HI9ZP0laH0D-"
      }
    },
    {
      "cell_type": "markdown",
      "source": [
        "#### 2. Perform an appropriate statistical test."
      ],
      "metadata": {
        "id": "I79__PHVH19G"
      }
    },
    {
      "cell_type": "code",
      "source": [
        "# Perform Statistical Test to obtain P-Value\n",
        "import scipy.stats as stats\n",
        "#perform one sample t-test\n",
        "stats.ttest_1samp(a=crp_df['age'], popmean=49.5)"
      ],
      "metadata": {
        "id": "oZrfquKtyian"
      },
      "execution_count": null,
      "outputs": []
    },
    {
      "cell_type": "markdown",
      "source": [
        "##### Which statistical test have you done to obtain P-Value?"
      ],
      "metadata": {
        "id": "Ou-I18pAyIpj"
      }
    },
    {
      "cell_type": "markdown",
      "source": [
        "Answer Here."
      ],
      "metadata": {
        "id": "s2U0kk00ygSB"
      }
    },
    {
      "cell_type": "markdown",
      "source": [
        "##### Why did you choose the specific statistical test?"
      ],
      "metadata": {
        "id": "fF3858GYyt-u"
      }
    },
    {
      "cell_type": "markdown",
      "source": [
        "Answer Here."
      ],
      "metadata": {
        "id": "HO4K0gP5y3B4"
      }
    },
    {
      "cell_type": "markdown",
      "source": [
        "### Hypothetical Statement - 2"
      ],
      "metadata": {
        "id": "4_0_7-oCpUZd"
      }
    },
    {
      "cell_type": "markdown",
      "source": [
        "#### 1. State Your research hypothesis as a null hypothesis and alternate hypothesis."
      ],
      "metadata": {
        "id": "hwyV_J3ipUZe"
      }
    },
    {
      "cell_type": "markdown",
      "source": [
        "Answer Here."
      ],
      "metadata": {
        "id": "FnpLGJ-4pUZe"
      }
    },
    {
      "cell_type": "markdown",
      "source": [
        "#### 2. Perform an appropriate statistical test."
      ],
      "metadata": {
        "id": "3yB-zSqbpUZe"
      }
    },
    {
      "cell_type": "code",
      "source": [
        "# Perform Statistical Test to obtain P-Value"
      ],
      "metadata": {
        "id": "sWxdNTXNpUZe"
      },
      "execution_count": null,
      "outputs": []
    },
    {
      "cell_type": "markdown",
      "source": [
        "##### Which statistical test have you done to obtain P-Value?"
      ],
      "metadata": {
        "id": "dEUvejAfpUZe"
      }
    },
    {
      "cell_type": "markdown",
      "source": [
        "Answer Here."
      ],
      "metadata": {
        "id": "oLDrPz7HpUZf"
      }
    },
    {
      "cell_type": "markdown",
      "source": [
        "##### Why did you choose the specific statistical test?"
      ],
      "metadata": {
        "id": "Fd15vwWVpUZf"
      }
    },
    {
      "cell_type": "markdown",
      "source": [
        "Answer Here."
      ],
      "metadata": {
        "id": "4xOGYyiBpUZf"
      }
    },
    {
      "cell_type": "markdown",
      "source": [
        "### Hypothetical Statement - 3"
      ],
      "metadata": {
        "id": "bn_IUdTipZyH"
      }
    },
    {
      "cell_type": "markdown",
      "source": [
        "#### 1. State Your research hypothesis as a null hypothesis and alternate hypothesis."
      ],
      "metadata": {
        "id": "49K5P_iCpZyH"
      }
    },
    {
      "cell_type": "markdown",
      "source": [
        "Answer Here."
      ],
      "metadata": {
        "id": "7gWI5rT9pZyH"
      }
    },
    {
      "cell_type": "markdown",
      "source": [
        "#### 2. Perform an appropriate statistical test."
      ],
      "metadata": {
        "id": "Nff-vKELpZyI"
      }
    },
    {
      "cell_type": "code",
      "source": [
        "# Perform Statistical Test to obtain P-Value"
      ],
      "metadata": {
        "id": "s6AnJQjtpZyI"
      },
      "execution_count": null,
      "outputs": []
    },
    {
      "cell_type": "markdown",
      "source": [
        "##### Which statistical test have you done to obtain P-Value?"
      ],
      "metadata": {
        "id": "kLW572S8pZyI"
      }
    },
    {
      "cell_type": "markdown",
      "source": [
        "Answer Here."
      ],
      "metadata": {
        "id": "ytWJ8v15pZyI"
      }
    },
    {
      "cell_type": "markdown",
      "source": [
        "##### Why did you choose the specific statistical test?"
      ],
      "metadata": {
        "id": "dWbDXHzopZyI"
      }
    },
    {
      "cell_type": "markdown",
      "source": [
        "Answer Here."
      ],
      "metadata": {
        "id": "M99G98V6pZyI"
      }
    },
    {
      "cell_type": "markdown",
      "source": [
        "## ***6. Feature Engineering & Data Pre-processing***"
      ],
      "metadata": {
        "id": "yLjJCtPM0KBk"
      }
    },
    {
      "cell_type": "markdown",
      "source": [
        "### 2. Handling Outliers"
      ],
      "metadata": {
        "id": "id1riN9m0vUs"
      }
    },
    {
      "cell_type": "code",
      "source": [
        "# Handling Outliers & Outlier treatments\n",
        "# Box plot for visualizing outliers\n",
        "figure, ax = plt.subplots(nrows=4, ncols=2, figsize=(25,18))\n",
        "sns.boxplot(crp_df['age'], palette='Accent', ax=ax[0,0])\n",
        "sns.boxplot(crp_df['cigsPerDay'],palette='GnBu', ax=ax[0,1])\n",
        "sns.boxplot(crp_df['totChol'],palette='Dark2', ax=ax[1,0])\n",
        "sns.boxplot(crp_df['sysBP'], palette='OrRd',ax=ax[1,1])\n",
        "sns.boxplot(crp_df['diaBP'], palette='Pastel2_r', ax=ax[2,0])\n",
        "sns.boxplot(crp_df['BMI'],palette='Set1', ax=ax[2,1])\n",
        "sns.boxplot(crp_df['heartRate'], palette='YlGnBu_r', ax=ax[3,0])\n",
        "sns.boxplot(crp_df['glucose'],palette='autumn', ax=ax[3,1])"
      ],
      "metadata": {
        "id": "M6w2CzZf04JK",
        "colab": {
          "base_uri": "https://localhost:8080/",
          "height": 1000
        },
        "outputId": "63df6ac3-2763-49b2-f59b-12ded3a0dc03"
      },
      "execution_count": 22,
      "outputs": [
        {
          "output_type": "execute_result",
          "data": {
            "text/plain": [
              "<matplotlib.axes._subplots.AxesSubplot at 0x7f17aa8d6430>"
            ]
          },
          "metadata": {},
          "execution_count": 22
        },
        {
          "output_type": "display_data",
          "data": {
            "text/plain": [
              "<Figure size 1800x1296 with 8 Axes>"
            ],
            "image/png": "[encoded data removed]"
          },
          "metadata": {
            "needs_background": "light"
          }
        }
      ]
    },
    {
      "cell_type": "markdown",
      "source": [
        "##### What all outlier treatment techniques have you used and why did you use those techniques?"
      ],
      "metadata": {
        "id": "578E2V7j08f6"
      }
    },
    {
      "cell_type": "markdown",
      "source": [
        "As we can see frm the above boxplots that we have a lot of outliers in few of the columns but we cannot reove or replace as high values of BMI, BP, etc show that patient has high risk of cardivascular disease, if we remove these values we might get false results during model predictions. "
      ],
      "metadata": {
        "id": "uGZz5OrT1HH-"
      }
    },
    {
      "cell_type": "markdown",
      "source": [
        "### 3. Categorical Encoding"
      ],
      "metadata": {
        "id": "89xtkJwZ18nB"
      }
    },
    {
      "cell_type": "code",
      "source": [
        "# Encode your categorical columns\n",
        "crp_df=pd.get_dummies(crp_df, columns=['sex'])\n",
        "crp_df.columns"
      ],
      "metadata": {
        "id": "21JmIYMG2hEo",
        "colab": {
          "base_uri": "https://localhost:8080/"
        },
        "outputId": "2beb5a21-1bb5-4e94-d704-68bef45bdcf8"
      },
      "execution_count": 23,
      "outputs": [
        {
          "output_type": "execute_result",
          "data": {
            "text/plain": [
              "Index(['id', 'age', 'education', 'is_smoking', 'cigsPerDay', 'BPMeds',\n",
              "       'prevalentStroke', 'prevalentHyp', 'diabetes', 'totChol', 'sysBP',\n",
              "       'diaBP', 'BMI', 'heartRate', 'glucose', 'TenYearCHD', 'sex_F', 'sex_M'],\n",
              "      dtype='object')"
            ]
          },
          "metadata": {},
          "execution_count": 23
        }
      ]
    },
    {
      "cell_type": "markdown",
      "source": [
        "#### What all categorical encoding techniques have you used & why did you use those techniques?"
      ],
      "metadata": {
        "id": "67NQN5KX2AMe"
      }
    },
    {
      "cell_type": "markdown",
      "source": [
        "Answer Here."
      ],
      "metadata": {
        "id": "UDaue5h32n_G"
      }
    },
    {
      "cell_type": "markdown",
      "source": [
        "### 4. Feature Manipulation & Selection"
      ],
      "metadata": {
        "id": "-oLEiFgy-5Pf"
      }
    },
    {
      "cell_type": "markdown",
      "source": [
        "#### 1. Feature Manipulation"
      ],
      "metadata": {
        "id": "C74aWNz2AliB"
      }
    },
    {
      "cell_type": "code",
      "source": [
        "# Manipulate Features to minimize feature correlation and create new features\n",
        "# Adding pulse pressure as a column\n",
        "crp_df['MAP'] =  (crp_df[\"sysBP\"] + 2 * crp_df[\"diaBP\"])/3"
      ],
      "metadata": {
        "id": "h1qC4yhBApWC"
      },
      "execution_count": 24,
      "outputs": []
    },
    {
      "cell_type": "markdown",
      "source": [
        "#### 2. Feature Selection"
      ],
      "metadata": {
        "id": "2DejudWSA-a0"
      }
    },
    {
      "cell_type": "code",
      "source": [
        "# Select your features wisely to avoid overfitting\n",
        "features=['age', 'education','sex_F', 'sex_M', 'BPMeds', 'cigsPerDay' ,'totChol','heartRate' ,'prevalentStroke','glucose',  'prevalentHyp',  'diabetes', 'MAP']\n",
        "final_df= crp_df[features]"
      ],
      "metadata": {
        "id": "YLhe8UmaBCEE"
      },
      "execution_count": 25,
      "outputs": []
    },
    {
      "cell_type": "markdown",
      "source": [
        "##### What all feature selection methods have you used  and why?"
      ],
      "metadata": {
        "id": "pEMng2IbBLp7"
      }
    },
    {
      "cell_type": "markdown",
      "source": [
        "Answer Here."
      ],
      "metadata": {
        "id": "rb2Lh6Z8BgGs"
      }
    },
    {
      "cell_type": "markdown",
      "source": [
        "##### Which all features you found important and why?"
      ],
      "metadata": {
        "id": "rAdphbQ9Bhjc"
      }
    },
    {
      "cell_type": "markdown",
      "source": [
        "Answer Here."
      ],
      "metadata": {
        "id": "fGgaEstsBnaf"
      }
    },
    {
      "cell_type": "markdown",
      "source": [
        "### 5. Data Scaling"
      ],
      "metadata": {
        "id": "rMDnDkt2B6du"
      }
    },
    {
      "cell_type": "code",
      "source": [
        "# Scaling your data\n",
        "scaler = MinMaxScaler()\n",
        "scoring = make_scorer(f1_score, pos_label=1)\n",
        "columns = [i for i in crp_df.describe().columns if i not in ['TenYearCHD']]"
      ],
      "metadata": {
        "id": "dL9LWpySC6x_"
      },
      "execution_count": 26,
      "outputs": []
    },
    {
      "cell_type": "markdown",
      "source": [
        "##### Which method have you used to scale you data and why?"
      ],
      "metadata": {
        "id": "yiiVWRdJDDil"
      }
    },
    {
      "cell_type": "markdown",
      "source": [
        "### 6. Dimesionality Reduction"
      ],
      "metadata": {
        "id": "1UUpS68QDMuG"
      }
    },
    {
      "cell_type": "markdown",
      "source": [
        "##### Do you think that dimensionality reduction is needed? Explain Why?"
      ],
      "metadata": {
        "id": "kexQrXU-DjzY"
      }
    },
    {
      "cell_type": "markdown",
      "source": [
        "Answer Here."
      ],
      "metadata": {
        "id": "GGRlBsSGDtTQ"
      }
    },
    {
      "cell_type": "code",
      "source": [
        "# DImensionality Reduction (If needed)"
      ],
      "metadata": {
        "id": "kQfvxBBHDvCa"
      },
      "execution_count": null,
      "outputs": []
    },
    {
      "cell_type": "markdown",
      "source": [
        "##### Which dimensionality reduction technique have you used and why? (If dimensionality reduction done on dataset.)"
      ],
      "metadata": {
        "id": "T5CmagL3EC8N"
      }
    },
    {
      "cell_type": "markdown",
      "source": [
        "Answer Here."
      ],
      "metadata": {
        "id": "ZKr75IDuEM7t"
      }
    },
    {
      "cell_type": "markdown",
      "source": [
        "### 7. Data Splitting"
      ],
      "metadata": {
        "id": "BhH2vgX9EjGr"
      }
    },
    {
      "cell_type": "code",
      "source": [
        "# Split your data to train and test. Choose Splitting ratio wisely.\n",
        "x=final_df[features]\n",
        "y=crp_df['TenYearCHD']\n",
        "x_train, x_test, y_train, y_test = train_test_split( x, y , test_size = 0.2, random_state = 21)"
      ],
      "metadata": {
        "id": "0CTyd2UwEyNM"
      },
      "execution_count": 27,
      "outputs": []
    },
    {
      "cell_type": "markdown",
      "source": [
        "##### What data splitting ratio have you used and why? "
      ],
      "metadata": {
        "id": "qjKvONjwE8ra"
      }
    },
    {
      "cell_type": "markdown",
      "source": [
        "Answer Here."
      ],
      "metadata": {
        "id": "Y2lJ8cobFDb_"
      }
    },
    {
      "cell_type": "markdown",
      "source": [
        "### 8. Handling Imbalanced Dataset"
      ],
      "metadata": {
        "id": "P1XJ9OREExlT"
      }
    },
    {
      "cell_type": "markdown",
      "source": [
        "##### Do you think the dataset is imbalanced? Explain Why."
      ],
      "metadata": {
        "id": "VFOzZv6IFROw"
      }
    },
    {
      "cell_type": "markdown",
      "source": [
        "Answer Here."
      ],
      "metadata": {
        "id": "GeKDIv7pFgcC"
      }
    },
    {
      "cell_type": "code",
      "source": [
        "# Handling Imbalanced Dataset (If needed)\n",
        "x_smote, y_smote = SMOTETomek(random_state=42).fit_resample(x_train, y_train)\n",
        "# Checking Value counts for both classes Before and After handling Class Imbalance:\n",
        "for col,label in [[y_train,\"Before\"],[y_smote,'After']]:\n",
        "  print(label+' Handling Class Imbalace:')\n",
        "  print(col.value_counts(),'\\n')"
      ],
      "metadata": {
        "id": "nQsRhhZLFiDs",
        "colab": {
          "base_uri": "https://localhost:8080/"
        },
        "outputId": "dffde13c-2ecc-4f76-c85f-3a90fd2c27a9"
      },
      "execution_count": 28,
      "outputs": [
        {
          "output_type": "stream",
          "name": "stdout",
          "text": [
            "Before Handling Class Imbalace:\n",
            "0    2304\n",
            "1     408\n",
            "Name: TenYearCHD, dtype: int64 \n",
            "\n",
            "After Handling Class Imbalace:\n",
            "0    2270\n",
            "1    2270\n",
            "Name: TenYearCHD, dtype: int64 \n",
            "\n"
          ]
        }
      ]
    },
    {
      "cell_type": "markdown",
      "source": [
        "##### What technique did you use to handle the imbalance dataset and why? (If needed to be balanced)"
      ],
      "metadata": {
        "id": "TIqpNgepFxVj"
      }
    },
    {
      "cell_type": "markdown",
      "source": [
        " It is obvious that the classes are unbalanced, which would cause the model to be more biassed in favour of the \"0\" class (people with no Risk of CHD). We must discover a method for training a model such that it may accept some risk and provide more results in the \"1\" class.\n",
        "\n",
        "We need to create a model that can forecast the risk of CHD, which is the rationale behind that. The model need to be able to foretell the risk of heart disease if there is even a remote possibility, given the patient's health statistics.\n",
        "\n",
        "However, in a real-world scenario, our model is more beneficial because it is extremely likely that such a model will be able to anticipate whether a patient is at danger. Certainly, this would cause our model to reach a lower accuracy score since it is taking more risks for \"at risk\" patients.\n",
        "\n",
        "A typical technique would have improved our accuracy in this case due to the class imbalance, but in the real world, such a model isn't an acceptable answer because it's predicted that it will frequently fail to determine whether the patient is at risk, defeating the goal of the project.\n",
        "\n",
        "Therefore, we are using SMOTETomek on the training set to address these imbalances. The Synthetic Minority Oversampling Technique, or SMOTE for short, is a type of data augmentation for the minority class. The strategy works because it generates convincing new synthetic examples from the minority class that are substantially near in feature space to already existing examples from the minority class.."
      ],
      "metadata": {
        "id": "qbet1HwdGDTz"
      }
    },
    {
      "cell_type": "markdown",
      "source": [
        "## ***7. ML Model Implementation***"
      ],
      "metadata": {
        "id": "VfCC591jGiD4"
      }
    },
    {
      "cell_type": "markdown",
      "source": [
        "### ML Model - 1"
      ],
      "metadata": {
        "id": "OB4l2ZhMeS1U"
      }
    },
    {
      "cell_type": "code",
      "source": [
        "# ML Model - 1 Implementation\n",
        "logreg = LogisticRegression(fit_intercept=True, max_iter=10000)\n",
        "# Fit the Algorithm\n",
        "logreg.fit(x_smote,y_smote)\n",
        "# Predict on the model\n",
        "train__prob_preds = logreg.predict_proba(x_smote)\n",
        "test__prob_preds = logreg.predict_proba(x_test)\n",
        "train_preds = logreg.predict(x_smote)\n",
        "test_preds = logreg.predict(x_test)"
      ],
      "metadata": {
        "id": "7ebyywQieS1U"
      },
      "execution_count": 29,
      "outputs": []
    },
    {
      "cell_type": "markdown",
      "source": [
        "#### 1. Explain the ML Model used and it's performance using Evaluation metric Score Chart."
      ],
      "metadata": {
        "id": "ArJBuiUVfxKd"
      }
    },
    {
      "cell_type": "code",
      "source": [
        "# Visualizing evaluation Metric Score chart\n",
        "Evaluation = classification_report(y_test, test_preds, output_dict = True)\n",
        "\n",
        "# Adding results to the evaluation dataframe.\n",
        "EM_df = pd.DataFrame(Evaluation).transpose()\n",
        "EM_df['Model'] = 'Logistic Regression'\n",
        "Scores=pd.DataFrame()\n",
        "Scores = Scores.append(EM_df[2:-2])\n"
      ],
      "metadata": {
        "id": "rqD5ZohzfxKe"
      },
      "execution_count": 31,
      "outputs": []
    },
    {
      "cell_type": "code",
      "source": [
        "Scores"
      ],
      "metadata": {
        "colab": {
          "base_uri": "https://localhost:8080/",
          "height": 81
        },
        "id": "fD2Xva4sQLTO",
        "outputId": "a95c453d-3f78-4a75-d82b-446016b84746"
      },
      "execution_count": 35,
      "outputs": [
        {
          "output_type": "execute_result",
          "data": {
            "text/plain": [
              "          precision    recall  f1-score   support                Model\n",
              "accuracy   0.756637  0.756637  0.756637  0.756637  Logistic Regression"
            ],
            "text/html": [
              "\n",
              "  <div id=\"df-c45b15e5-ecab-40c6-bff2-303e80a0f149\">\n",
              "    <div class=\"colab-df-container\">\n",
              "      <div>\n",
              "<style scoped>\n",
              "    .dataframe tbody tr th:only-of-type {\n",
              "        vertical-align: middle;\n",
              "    }\n",
              "\n",
              "    .dataframe tbody tr th {\n",
              "        vertical-align: top;\n",
              "    }\n",
              "\n",
              "    .dataframe thead th {\n",
              "        text-align: right;\n",
              "    }\n",
              "</style>\n",
              "<table border=\"1\" class=\"dataframe\">\n",
              "  <thead>\n",
              "    <tr style=\"text-align: right;\">\n",
              "      <th></th>\n",
              "      <th>precision</th>\n",
              "      <th>recall</th>\n",
              "      <th>f1-score</th>\n",
              "      <th>support</th>\n",
              "      <th>Model</th>\n",
              "    </tr>\n",
              "  </thead>\n",
              "  <tbody>\n",
              "    <tr>\n",
              "      <th>accuracy</th>\n",
              "      <td>0.756637</td>\n",
              "      <td>0.756637</td>\n",
              "      <td>0.756637</td>\n",
              "      <td>0.756637</td>\n",
              "      <td>Logistic Regression</td>\n",
              "    </tr>\n",
              "  </tbody>\n",
              "</table>\n",
              "</div>\n",
              "      <button class=\"colab-df-convert\" onclick=\"convertToInteractive('df-c45b15e5-ecab-40c6-bff2-303e80a0f149')\"\n",
              "              title=\"Convert this dataframe to an interactive table.\"\n",
              "              style=\"display:none;\">\n",
              "        \n",
              "  <svg xmlns=\"http://www.w3.org/2000/svg\" height=\"24px\"viewBox=\"0 0 24 24\"\n",
              "       width=\"24px\">\n",
              "    <path d=\"M0 0h24v24H0V0z\" fill=\"none\"/>\n",
              "    <path d=\"M18.56 5.44l.94 2.06.94-2.06 2.06-.94-2.06-.94-.94-2.06-.94 2.06-2.06.94zm-11 1L8.5 8.5l.94-2.06 2.06-.94-2.06-.94L8.5 2.5l-.94 2.06-2.06.94zm10 10l.94 2.06.94-2.06 2.06-.94-2.06-.94-.94-2.06-.94 2.06-2.06.94z\"/><path d=\"M17.41 7.96l-1.37-1.37c-.4-.4-.92-.59-1.43-.59-.52 0-1.04.2-1.43.59L10.3 9.45l-7.72 7.72c-.78.78-.78 2.05 0 2.83L4 21.41c.39.39.9.59 1.41.59.51 0 1.02-.2 1.41-.59l7.78-7.78 2.81-2.81c.8-.78.8-2.07 0-2.86zM5.41 20L4 18.59l7.72-7.72 1.47 1.35L5.41 20z\"/>\n",
              "  </svg>\n",
              "      </button>\n",
              "      \n",
              "  <style>\n",
              "    .colab-df-container {\n",
              "      display:flex;\n",
              "      flex-wrap:wrap;\n",
              "      gap: 12px;\n",
              "    }\n",
              "\n",
              "    .colab-df-convert {\n",
              "      background-color: #E8F0FE;\n",
              "      border: none;\n",
              "      border-radius: 50%;\n",
              "      cursor: pointer;\n",
              "      display: none;\n",
              "      fill: #1967D2;\n",
              "      height: 32px;\n",
              "      padding: 0 0 0 0;\n",
              "      width: 32px;\n",
              "    }\n",
              "\n",
              "    .colab-df-convert:hover {\n",
              "      background-color: #E2EBFA;\n",
              "      box-shadow: 0px 1px 2px rgba(60, 64, 67, 0.3), 0px 1px 3px 1px rgba(60, 64, 67, 0.15);\n",
              "      fill: #174EA6;\n",
              "    }\n",
              "\n",
              "    [theme=dark] .colab-df-convert {\n",
              "      background-color: #3B4455;\n",
              "      fill: #D2E3FC;\n",
              "    }\n",
              "\n",
              "    [theme=dark] .colab-df-convert:hover {\n",
              "      background-color: #434B5C;\n",
              "      box-shadow: 0px 1px 3px 1px rgba(0, 0, 0, 0.15);\n",
              "      filter: drop-shadow(0px 1px 2px rgba(0, 0, 0, 0.3));\n",
              "      fill: #FFFFFF;\n",
              "    }\n",
              "  </style>\n",
              "\n",
              "      <script>\n",
              "        const buttonEl =\n",
              "          document.querySelector('#df-c45b15e5-ecab-40c6-bff2-303e80a0f149 button.colab-df-convert');\n",
              "        buttonEl.style.display =\n",
              "          google.colab.kernel.accessAllowed ? 'block' : 'none';\n",
              "\n",
              "        async function convertToInteractive(key) {\n",
              "          const element = document.querySelector('#df-c45b15e5-ecab-40c6-bff2-303e80a0f149');\n",
              "          const dataTable =\n",
              "            await google.colab.kernel.invokeFunction('convertToInteractive',\n",
              "                                                     [key], {});\n",
              "          if (!dataTable) return;\n",
              "\n",
              "          const docLinkHtml = 'Like what you see? Visit the ' +\n",
              "            '<a target=\"_blank\" href=https://colab.research.google.com/notebooks/data_table.ipynb>data table notebook</a>'\n",
              "            + ' to learn more about interactive tables.';\n",
              "          element.innerHTML = '';\n",
              "          dataTable['output_type'] = 'display_data';\n",
              "          await google.colab.output.renderOutput(dataTable, element);\n",
              "          const docLink = document.createElement('div');\n",
              "          docLink.innerHTML = docLinkHtml;\n",
              "          element.appendChild(docLink);\n",
              "        }\n",
              "      </script>\n",
              "    </div>\n",
              "  </div>\n",
              "  "
            ]
          },
          "metadata": {},
          "execution_count": 35
        }
      ]
    },
    {
      "cell_type": "markdown",
      "source": [
        "### ML Model - 2"
      ],
      "metadata": {
        "id": "dJ2tPlVmpsJ0"
      }
    },
    {
      "cell_type": "code",
      "source": [
        "# ML Model - 1 Implementation\n",
        "knn = KNeighborsClassifier(n_neighbors = 2)\n",
        "# Fit the Algorithm\n",
        "knn.fit(x_smote, y_smote)\n",
        "# Predict on the model\n",
        "knn_y_pred = knn.predict(x_test)\n",
        "knn_y_pred_proba = knn.predict_proba(x_test)[:,1]"
      ],
      "metadata": {
        "id": "1oTCqAxuYzuc"
      },
      "execution_count": 36,
      "outputs": []
    },
    {
      "cell_type": "markdown",
      "source": [
        "#### 1. Explain the ML Model used and it's performance using Evaluation metric Score Chart."
      ],
      "metadata": {
        "id": "JWYfwnehpsJ1"
      }
    },
    {
      "cell_type": "markdown",
      "source": [
        "#### 2. Cross- Validation & Hyperparameter Tuning"
      ],
      "metadata": {
        "id": "-jK_YjpMpsJ2"
      }
    },
    {
      "cell_type": "code",
      "source": [
        "# ML Model - 1 Implementation with hyperparameter optimization techniques (i.e., GridSearch CV, RandomSearch CV, Bayesian Optimization etc.)\n",
        "knn = KNeighborsClassifier() \n",
        "\n",
        "# GridSearch to find the best parameters\n",
        "param_grid = {'n_neighbors':np.arange(1,50)}\n",
        "knn_cv= GridSearchCV(knn, param_grid, cv=5)\n",
        "# Fit the Algorithm\n",
        "knn_cv.fit(x_smote, y_smote)\n",
        "# Predict on the model\n",
        "knn_cv_y_pred = knn_cv.predict(x_test)"
      ],
      "metadata": {
        "id": "Dn0EOfS6psJ2"
      },
      "execution_count": 37,
      "outputs": []
    },
    {
      "cell_type": "code",
      "source": [
        "# Visualizing evaluation Metric Score chart\n",
        "Evaluation = classification_report(y_test, knn_cv_y_pred, output_dict = True)\n",
        "\n",
        "# Adding results to the evaluation dataframe.\n",
        "EM_df = pd.DataFrame(Evaluation).transpose()\n",
        "EM_df['Model'] = 'KNN'\n",
        "\n",
        "Scores = Scores.append(EM_df[2:-2])\n",
        "Scores"
      ],
      "metadata": {
        "colab": {
          "base_uri": "https://localhost:8080/",
          "height": 112
        },
        "id": "Hhjja7HTrmpV",
        "outputId": "73f57082-98be-4d02-c99c-4d33cfc46193"
      },
      "execution_count": 38,
      "outputs": [
        {
          "output_type": "execute_result",
          "data": {
            "text/plain": [
              "          precision    recall  f1-score   support                Model\n",
              "accuracy   0.756637  0.756637  0.756637  0.756637  Logistic Regression\n",
              "accuracy   0.734513  0.734513  0.734513  0.734513                  KNN"
            ],
            "text/html": [
              "\n",
              "  <div id=\"df-01076fed-ad32-4334-89a5-12cc36df9680\">\n",
              "    <div class=\"colab-df-container\">\n",
              "      <div>\n",
              "<style scoped>\n",
              "    .dataframe tbody tr th:only-of-type {\n",
              "        vertical-align: middle;\n",
              "    }\n",
              "\n",
              "    .dataframe tbody tr th {\n",
              "        vertical-align: top;\n",
              "    }\n",
              "\n",
              "    .dataframe thead th {\n",
              "        text-align: right;\n",
              "    }\n",
              "</style>\n",
              "<table border=\"1\" class=\"dataframe\">\n",
              "  <thead>\n",
              "    <tr style=\"text-align: right;\">\n",
              "      <th></th>\n",
              "      <th>precision</th>\n",
              "      <th>recall</th>\n",
              "      <th>f1-score</th>\n",
              "      <th>support</th>\n",
              "      <th>Model</th>\n",
              "    </tr>\n",
              "  </thead>\n",
              "  <tbody>\n",
              "    <tr>\n",
              "      <th>accuracy</th>\n",
              "      <td>0.756637</td>\n",
              "      <td>0.756637</td>\n",
              "      <td>0.756637</td>\n",
              "      <td>0.756637</td>\n",
              "      <td>Logistic Regression</td>\n",
              "    </tr>\n",
              "    <tr>\n",
              "      <th>accuracy</th>\n",
              "      <td>0.734513</td>\n",
              "      <td>0.734513</td>\n",
              "      <td>0.734513</td>\n",
              "      <td>0.734513</td>\n",
              "      <td>KNN</td>\n",
              "    </tr>\n",
              "  </tbody>\n",
              "</table>\n",
              "</div>\n",
              "      <button class=\"colab-df-convert\" onclick=\"convertToInteractive('df-01076fed-ad32-4334-89a5-12cc36df9680')\"\n",
              "              title=\"Convert this dataframe to an interactive table.\"\n",
              "              style=\"display:none;\">\n",
              "        \n",
              "  <svg xmlns=\"http://www.w3.org/2000/svg\" height=\"24px\"viewBox=\"0 0 24 24\"\n",
              "       width=\"24px\">\n",
              "    <path d=\"M0 0h24v24H0V0z\" fill=\"none\"/>\n",
              "    <path d=\"M18.56 5.44l.94 2.06.94-2.06 2.06-.94-2.06-.94-.94-2.06-.94 2.06-2.06.94zm-11 1L8.5 8.5l.94-2.06 2.06-.94-2.06-.94L8.5 2.5l-.94 2.06-2.06.94zm10 10l.94 2.06.94-2.06 2.06-.94-2.06-.94-.94-2.06-.94 2.06-2.06.94z\"/><path d=\"M17.41 7.96l-1.37-1.37c-.4-.4-.92-.59-1.43-.59-.52 0-1.04.2-1.43.59L10.3 9.45l-7.72 7.72c-.78.78-.78 2.05 0 2.83L4 21.41c.39.39.9.59 1.41.59.51 0 1.02-.2 1.41-.59l7.78-7.78 2.81-2.81c.8-.78.8-2.07 0-2.86zM5.41 20L4 18.59l7.72-7.72 1.47 1.35L5.41 20z\"/>\n",
              "  </svg>\n",
              "      </button>\n",
              "      \n",
              "  <style>\n",
              "    .colab-df-container {\n",
              "      display:flex;\n",
              "      flex-wrap:wrap;\n",
              "      gap: 12px;\n",
              "    }\n",
              "\n",
              "    .colab-df-convert {\n",
              "      background-color: #E8F0FE;\n",
              "      border: none;\n",
              "      border-radius: 50%;\n",
              "      cursor: pointer;\n",
              "      display: none;\n",
              "      fill: #1967D2;\n",
              "      height: 32px;\n",
              "      padding: 0 0 0 0;\n",
              "      width: 32px;\n",
              "    }\n",
              "\n",
              "    .colab-df-convert:hover {\n",
              "      background-color: #E2EBFA;\n",
              "      box-shadow: 0px 1px 2px rgba(60, 64, 67, 0.3), 0px 1px 3px 1px rgba(60, 64, 67, 0.15);\n",
              "      fill: #174EA6;\n",
              "    }\n",
              "\n",
              "    [theme=dark] .colab-df-convert {\n",
              "      background-color: #3B4455;\n",
              "      fill: #D2E3FC;\n",
              "    }\n",
              "\n",
              "    [theme=dark] .colab-df-convert:hover {\n",
              "      background-color: #434B5C;\n",
              "      box-shadow: 0px 1px 3px 1px rgba(0, 0, 0, 0.15);\n",
              "      filter: drop-shadow(0px 1px 2px rgba(0, 0, 0, 0.3));\n",
              "      fill: #FFFFFF;\n",
              "    }\n",
              "  </style>\n",
              "\n",
              "      <script>\n",
              "        const buttonEl =\n",
              "          document.querySelector('#df-01076fed-ad32-4334-89a5-12cc36df9680 button.colab-df-convert');\n",
              "        buttonEl.style.display =\n",
              "          google.colab.kernel.accessAllowed ? 'block' : 'none';\n",
              "\n",
              "        async function convertToInteractive(key) {\n",
              "          const element = document.querySelector('#df-01076fed-ad32-4334-89a5-12cc36df9680');\n",
              "          const dataTable =\n",
              "            await google.colab.kernel.invokeFunction('convertToInteractive',\n",
              "                                                     [key], {});\n",
              "          if (!dataTable) return;\n",
              "\n",
              "          const docLinkHtml = 'Like what you see? Visit the ' +\n",
              "            '<a target=\"_blank\" href=https://colab.research.google.com/notebooks/data_table.ipynb>data table notebook</a>'\n",
              "            + ' to learn more about interactive tables.';\n",
              "          element.innerHTML = '';\n",
              "          dataTable['output_type'] = 'display_data';\n",
              "          await google.colab.output.renderOutput(dataTable, element);\n",
              "          const docLink = document.createElement('div');\n",
              "          docLink.innerHTML = docLinkHtml;\n",
              "          element.appendChild(docLink);\n",
              "        }\n",
              "      </script>\n",
              "    </div>\n",
              "  </div>\n",
              "  "
            ]
          },
          "metadata": {},
          "execution_count": 38
        }
      ]
    },
    {
      "cell_type": "markdown",
      "source": [
        "##### Which hyperparameter optimization technique have you used and why?"
      ],
      "metadata": {
        "id": "HAih1iBOpsJ2"
      }
    },
    {
      "cell_type": "markdown",
      "source": [
        "Answer Here."
      ],
      "metadata": {
        "id": "9kBgjYcdpsJ2"
      }
    },
    {
      "cell_type": "markdown",
      "source": [
        "##### Have you seen any improvement? Note down the improvement with updates Evaluation metric Score Chart."
      ],
      "metadata": {
        "id": "zVGeBEFhpsJ2"
      }
    },
    {
      "cell_type": "markdown",
      "source": [
        "Answer Here."
      ],
      "metadata": {
        "id": "74yRdG6UpsJ3"
      }
    },
    {
      "cell_type": "markdown",
      "source": [
        "#### 3. Explain each evaluation metric's indication towards business and the business impact pf the ML model used."
      ],
      "metadata": {
        "id": "bmKjuQ-FpsJ3"
      }
    },
    {
      "cell_type": "markdown",
      "source": [
        "Answer Here."
      ],
      "metadata": {
        "id": "BDKtOrBQpsJ3"
      }
    },
    {
      "cell_type": "markdown",
      "source": [
        "### ML Model - 3"
      ],
      "metadata": {
        "id": "Fze-IPXLpx6K"
      }
    },
    {
      "cell_type": "code",
      "source": [
        "# ML Model - 3 Implementation\n",
        "nb = GaussianNB()\n",
        "# Fit the Algorithm\n",
        "nb.fit(x_smote, y_smote)\n",
        "# Predict on the model\n",
        "nb_y_pred = nb.predict(x_test)\n",
        "nb_y_train_pred = nb.predict(x_smote)\n",
        "nb_y_pred_proba = nb.predict_proba(x_test)[:,1]"
      ],
      "metadata": {
        "id": "FFrSXAtrpx6M"
      },
      "execution_count": 39,
      "outputs": []
    },
    {
      "cell_type": "markdown",
      "source": [
        "#### 1. Explain the ML Model used and it's performance using Evaluation metric Score Chart."
      ],
      "metadata": {
        "id": "7AN1z2sKpx6M"
      }
    },
    {
      "cell_type": "code",
      "source": [
        "# Visualizing evaluation Metric Score chart\n",
        "Evaluation = classification_report(y_test, nb_y_pred, output_dict = True)\n",
        "\n",
        "# Adding results to the evaluation dataframe.\n",
        "EM_df = pd.DataFrame(Evaluation).transpose()\n",
        "EM_df['Model'] = 'Naive Bayes'\n",
        "\n",
        "Scores = Scores.append(EM_df[2:-2])\n",
        "Scores"
      ],
      "metadata": {
        "colab": {
          "base_uri": "https://localhost:8080/",
          "height": 143
        },
        "id": "TwKXWXS-wKWa",
        "outputId": "19c4d2e8-c1cc-4340-c197-773a34fe7c34"
      },
      "execution_count": 40,
      "outputs": [
        {
          "output_type": "execute_result",
          "data": {
            "text/plain": [
              "          precision    recall  f1-score   support                Model\n",
              "accuracy   0.756637  0.756637  0.756637  0.756637  Logistic Regression\n",
              "accuracy   0.734513  0.734513  0.734513  0.734513                  KNN\n",
              "accuracy   0.786136  0.786136  0.786136  0.786136          Naive Bayes"
            ],
            "text/html": [
              "\n",
              "  <div id=\"df-b5576dc6-cab4-42a8-8718-04947d6c3d2e\">\n",
              "    <div class=\"colab-df-container\">\n",
              "      <div>\n",
              "<style scoped>\n",
              "    .dataframe tbody tr th:only-of-type {\n",
              "        vertical-align: middle;\n",
              "    }\n",
              "\n",
              "    .dataframe tbody tr th {\n",
              "        vertical-align: top;\n",
              "    }\n",
              "\n",
              "    .dataframe thead th {\n",
              "        text-align: right;\n",
              "    }\n",
              "</style>\n",
              "<table border=\"1\" class=\"dataframe\">\n",
              "  <thead>\n",
              "    <tr style=\"text-align: right;\">\n",
              "      <th></th>\n",
              "      <th>precision</th>\n",
              "      <th>recall</th>\n",
              "      <th>f1-score</th>\n",
              "      <th>support</th>\n",
              "      <th>Model</th>\n",
              "    </tr>\n",
              "  </thead>\n",
              "  <tbody>\n",
              "    <tr>\n",
              "      <th>accuracy</th>\n",
              "      <td>0.756637</td>\n",
              "      <td>0.756637</td>\n",
              "      <td>0.756637</td>\n",
              "      <td>0.756637</td>\n",
              "      <td>Logistic Regression</td>\n",
              "    </tr>\n",
              "    <tr>\n",
              "      <th>accuracy</th>\n",
              "      <td>0.734513</td>\n",
              "      <td>0.734513</td>\n",
              "      <td>0.734513</td>\n",
              "      <td>0.734513</td>\n",
              "      <td>KNN</td>\n",
              "    </tr>\n",
              "    <tr>\n",
              "      <th>accuracy</th>\n",
              "      <td>0.786136</td>\n",
              "      <td>0.786136</td>\n",
              "      <td>0.786136</td>\n",
              "      <td>0.786136</td>\n",
              "      <td>Naive Bayes</td>\n",
              "    </tr>\n",
              "  </tbody>\n",
              "</table>\n",
              "</div>\n",
              "      <button class=\"colab-df-convert\" onclick=\"convertToInteractive('df-b5576dc6-cab4-42a8-8718-04947d6c3d2e')\"\n",
              "              title=\"Convert this dataframe to an interactive table.\"\n",
              "              style=\"display:none;\">\n",
              "        \n",
              "  <svg xmlns=\"http://www.w3.org/2000/svg\" height=\"24px\"viewBox=\"0 0 24 24\"\n",
              "       width=\"24px\">\n",
              "    <path d=\"M0 0h24v24H0V0z\" fill=\"none\"/>\n",
              "    <path d=\"M18.56 5.44l.94 2.06.94-2.06 2.06-.94-2.06-.94-.94-2.06-.94 2.06-2.06.94zm-11 1L8.5 8.5l.94-2.06 2.06-.94-2.06-.94L8.5 2.5l-.94 2.06-2.06.94zm10 10l.94 2.06.94-2.06 2.06-.94-2.06-.94-.94-2.06-.94 2.06-2.06.94z\"/><path d=\"M17.41 7.96l-1.37-1.37c-.4-.4-.92-.59-1.43-.59-.52 0-1.04.2-1.43.59L10.3 9.45l-7.72 7.72c-.78.78-.78 2.05 0 2.83L4 21.41c.39.39.9.59 1.41.59.51 0 1.02-.2 1.41-.59l7.78-7.78 2.81-2.81c.8-.78.8-2.07 0-2.86zM5.41 20L4 18.59l7.72-7.72 1.47 1.35L5.41 20z\"/>\n",
              "  </svg>\n",
              "      </button>\n",
              "      \n",
              "  <style>\n",
              "    .colab-df-container {\n",
              "      display:flex;\n",
              "      flex-wrap:wrap;\n",
              "      gap: 12px;\n",
              "    }\n",
              "\n",
              "    .colab-df-convert {\n",
              "      background-color: #E8F0FE;\n",
              "      border: none;\n",
              "      border-radius: 50%;\n",
              "      cursor: pointer;\n",
              "      display: none;\n",
              "      fill: #1967D2;\n",
              "      height: 32px;\n",
              "      padding: 0 0 0 0;\n",
              "      width: 32px;\n",
              "    }\n",
              "\n",
              "    .colab-df-convert:hover {\n",
              "      background-color: #E2EBFA;\n",
              "      box-shadow: 0px 1px 2px rgba(60, 64, 67, 0.3), 0px 1px 3px 1px rgba(60, 64, 67, 0.15);\n",
              "      fill: #174EA6;\n",
              "    }\n",
              "\n",
              "    [theme=dark] .colab-df-convert {\n",
              "      background-color: #3B4455;\n",
              "      fill: #D2E3FC;\n",
              "    }\n",
              "\n",
              "    [theme=dark] .colab-df-convert:hover {\n",
              "      background-color: #434B5C;\n",
              "      box-shadow: 0px 1px 3px 1px rgba(0, 0, 0, 0.15);\n",
              "      filter: drop-shadow(0px 1px 2px rgba(0, 0, 0, 0.3));\n",
              "      fill: #FFFFFF;\n",
              "    }\n",
              "  </style>\n",
              "\n",
              "      <script>\n",
              "        const buttonEl =\n",
              "          document.querySelector('#df-b5576dc6-cab4-42a8-8718-04947d6c3d2e button.colab-df-convert');\n",
              "        buttonEl.style.display =\n",
              "          google.colab.kernel.accessAllowed ? 'block' : 'none';\n",
              "\n",
              "        async function convertToInteractive(key) {\n",
              "          const element = document.querySelector('#df-b5576dc6-cab4-42a8-8718-04947d6c3d2e');\n",
              "          const dataTable =\n",
              "            await google.colab.kernel.invokeFunction('convertToInteractive',\n",
              "                                                     [key], {});\n",
              "          if (!dataTable) return;\n",
              "\n",
              "          const docLinkHtml = 'Like what you see? Visit the ' +\n",
              "            '<a target=\"_blank\" href=https://colab.research.google.com/notebooks/data_table.ipynb>data table notebook</a>'\n",
              "            + ' to learn more about interactive tables.';\n",
              "          element.innerHTML = '';\n",
              "          dataTable['output_type'] = 'display_data';\n",
              "          await google.colab.output.renderOutput(dataTable, element);\n",
              "          const docLink = document.createElement('div');\n",
              "          docLink.innerHTML = docLinkHtml;\n",
              "          element.appendChild(docLink);\n",
              "        }\n",
              "      </script>\n",
              "    </div>\n",
              "  </div>\n",
              "  "
            ]
          },
          "metadata": {},
          "execution_count": 40
        }
      ]
    },
    {
      "cell_type": "markdown",
      "source": [
        "### ML Model - 4"
      ],
      "metadata": {
        "id": "xu8Xz4LMztFD"
      }
    },
    {
      "cell_type": "code",
      "source": [
        "# ML Model - 1 Implementation\n",
        "xgb = XGBRFClassifier()\n",
        "# Fit the Algorithm\n",
        "xgb.fit(x_smote, y_smote)\n",
        "# Predict on the model\n",
        "xgb_y_pred = xgb.predict(x_test)\n",
        "xgb_y_pred_proba = xgb.predict_proba(x_test)[:,1]"
      ],
      "metadata": {
        "id": "cY67Wh5Ixkwj"
      },
      "execution_count": 41,
      "outputs": []
    },
    {
      "cell_type": "code",
      "source": [
        "# ML Model - 1 Implementation with hyperparameter optimization techniques (i.e., GridSearch CV, RandomSearch CV, Bayesian Optimization etc.)\n",
        "xgb = XGBRFClassifier()\n",
        "\n",
        "# GridSearch to find the best parameters\n",
        "grid = {'n_estimators' : [150],\n",
        "        'max_depth' : [8,10],\n",
        "        'min_samples_split' : [50,100],\n",
        "        'min_samples_leaf' : [30,50],\n",
        "        'eta' : [0.05,0.08,0.1]}\n",
        "xgb_cv= GridSearchCV(xgb, param_grid = grid, scoring = scoring, cv=5)\n",
        "\n",
        "# Fit the Algorithm\n",
        "xgb_cv.fit(x_smote, y_smote)\n",
        "# Predict on the model\n",
        "xgb_cv_y_pred = xgb_cv.predict(x_test)"
      ],
      "metadata": {
        "id": "igbuhRCVxkj6"
      },
      "execution_count": 44,
      "outputs": []
    },
    {
      "cell_type": "code",
      "source": [
        "# Visualizing evaluation Metric Score chart\n",
        "Evaluation = classification_report(y_test, xgb_cv_y_pred, output_dict = True)\n",
        "\n",
        "# Adding results to the evaluation dataframe.\n",
        "EM_df = pd.DataFrame(Evaluation).transpose()\n",
        "EM_df['Model'] = 'XG Boost'\n",
        "\n",
        "Scores = Scores.append(EM_df[2:-2])\n",
        "Scores"
      ],
      "metadata": {
        "colab": {
          "base_uri": "https://localhost:8080/",
          "height": 175
        },
        "id": "k7_1aFZu0HlH",
        "outputId": "79aa7b78-134e-4908-c034-569d81f1004b"
      },
      "execution_count": 45,
      "outputs": [
        {
          "output_type": "execute_result",
          "data": {
            "text/plain": [
              "          precision    recall  f1-score   support                Model\n",
              "accuracy   0.756637  0.756637  0.756637  0.756637  Logistic Regression\n",
              "accuracy   0.734513  0.734513  0.734513  0.734513                  KNN\n",
              "accuracy   0.786136  0.786136  0.786136  0.786136          Naive Bayes\n",
              "accuracy   0.800885  0.800885  0.800885  0.800885             XG Boost"
            ],
            "text/html": [
              "\n",
              "  <div id=\"df-47a6fd09-bbf6-40a0-a8d5-c98754f296cc\">\n",
              "    <div class=\"colab-df-container\">\n",
              "      <div>\n",
              "<style scoped>\n",
              "    .dataframe tbody tr th:only-of-type {\n",
              "        vertical-align: middle;\n",
              "    }\n",
              "\n",
              "    .dataframe tbody tr th {\n",
              "        vertical-align: top;\n",
              "    }\n",
              "\n",
              "    .dataframe thead th {\n",
              "        text-align: right;\n",
              "    }\n",
              "</style>\n",
              "<table border=\"1\" class=\"dataframe\">\n",
              "  <thead>\n",
              "    <tr style=\"text-align: right;\">\n",
              "      <th></th>\n",
              "      <th>precision</th>\n",
              "      <th>recall</th>\n",
              "      <th>f1-score</th>\n",
              "      <th>support</th>\n",
              "      <th>Model</th>\n",
              "    </tr>\n",
              "  </thead>\n",
              "  <tbody>\n",
              "    <tr>\n",
              "      <th>accuracy</th>\n",
              "      <td>0.756637</td>\n",
              "      <td>0.756637</td>\n",
              "      <td>0.756637</td>\n",
              "      <td>0.756637</td>\n",
              "      <td>Logistic Regression</td>\n",
              "    </tr>\n",
              "    <tr>\n",
              "      <th>accuracy</th>\n",
              "      <td>0.734513</td>\n",
              "      <td>0.734513</td>\n",
              "      <td>0.734513</td>\n",
              "      <td>0.734513</td>\n",
              "      <td>KNN</td>\n",
              "    </tr>\n",
              "    <tr>\n",
              "      <th>accuracy</th>\n",
              "      <td>0.786136</td>\n",
              "      <td>0.786136</td>\n",
              "      <td>0.786136</td>\n",
              "      <td>0.786136</td>\n",
              "      <td>Naive Bayes</td>\n",
              "    </tr>\n",
              "    <tr>\n",
              "      <th>accuracy</th>\n",
              "      <td>0.800885</td>\n",
              "      <td>0.800885</td>\n",
              "      <td>0.800885</td>\n",
              "      <td>0.800885</td>\n",
              "      <td>XG Boost</td>\n",
              "    </tr>\n",
              "  </tbody>\n",
              "</table>\n",
              "</div>\n",
              "      <button class=\"colab-df-convert\" onclick=\"convertToInteractive('df-47a6fd09-bbf6-40a0-a8d5-c98754f296cc')\"\n",
              "              title=\"Convert this dataframe to an interactive table.\"\n",
              "              style=\"display:none;\">\n",
              "        \n",
              "  <svg xmlns=\"http://www.w3.org/2000/svg\" height=\"24px\"viewBox=\"0 0 24 24\"\n",
              "       width=\"24px\">\n",
              "    <path d=\"M0 0h24v24H0V0z\" fill=\"none\"/>\n",
              "    <path d=\"M18.56 5.44l.94 2.06.94-2.06 2.06-.94-2.06-.94-.94-2.06-.94 2.06-2.06.94zm-11 1L8.5 8.5l.94-2.06 2.06-.94-2.06-.94L8.5 2.5l-.94 2.06-2.06.94zm10 10l.94 2.06.94-2.06 2.06-.94-2.06-.94-.94-2.06-.94 2.06-2.06.94z\"/><path d=\"M17.41 7.96l-1.37-1.37c-.4-.4-.92-.59-1.43-.59-.52 0-1.04.2-1.43.59L10.3 9.45l-7.72 7.72c-.78.78-.78 2.05 0 2.83L4 21.41c.39.39.9.59 1.41.59.51 0 1.02-.2 1.41-.59l7.78-7.78 2.81-2.81c.8-.78.8-2.07 0-2.86zM5.41 20L4 18.59l7.72-7.72 1.47 1.35L5.41 20z\"/>\n",
              "  </svg>\n",
              "      </button>\n",
              "      \n",
              "  <style>\n",
              "    .colab-df-container {\n",
              "      display:flex;\n",
              "      flex-wrap:wrap;\n",
              "      gap: 12px;\n",
              "    }\n",
              "\n",
              "    .colab-df-convert {\n",
              "      background-color: #E8F0FE;\n",
              "      border: none;\n",
              "      border-radius: 50%;\n",
              "      cursor: pointer;\n",
              "      display: none;\n",
              "      fill: #1967D2;\n",
              "      height: 32px;\n",
              "      padding: 0 0 0 0;\n",
              "      width: 32px;\n",
              "    }\n",
              "\n",
              "    .colab-df-convert:hover {\n",
              "      background-color: #E2EBFA;\n",
              "      box-shadow: 0px 1px 2px rgba(60, 64, 67, 0.3), 0px 1px 3px 1px rgba(60, 64, 67, 0.15);\n",
              "      fill: #174EA6;\n",
              "    }\n",
              "\n",
              "    [theme=dark] .colab-df-convert {\n",
              "      background-color: #3B4455;\n",
              "      fill: #D2E3FC;\n",
              "    }\n",
              "\n",
              "    [theme=dark] .colab-df-convert:hover {\n",
              "      background-color: #434B5C;\n",
              "      box-shadow: 0px 1px 3px 1px rgba(0, 0, 0, 0.15);\n",
              "      filter: drop-shadow(0px 1px 2px rgba(0, 0, 0, 0.3));\n",
              "      fill: #FFFFFF;\n",
              "    }\n",
              "  </style>\n",
              "\n",
              "      <script>\n",
              "        const buttonEl =\n",
              "          document.querySelector('#df-47a6fd09-bbf6-40a0-a8d5-c98754f296cc button.colab-df-convert');\n",
              "        buttonEl.style.display =\n",
              "          google.colab.kernel.accessAllowed ? 'block' : 'none';\n",
              "\n",
              "        async function convertToInteractive(key) {\n",
              "          const element = document.querySelector('#df-47a6fd09-bbf6-40a0-a8d5-c98754f296cc');\n",
              "          const dataTable =\n",
              "            await google.colab.kernel.invokeFunction('convertToInteractive',\n",
              "                                                     [key], {});\n",
              "          if (!dataTable) return;\n",
              "\n",
              "          const docLinkHtml = 'Like what you see? Visit the ' +\n",
              "            '<a target=\"_blank\" href=https://colab.research.google.com/notebooks/data_table.ipynb>data table notebook</a>'\n",
              "            + ' to learn more about interactive tables.';\n",
              "          element.innerHTML = '';\n",
              "          dataTable['output_type'] = 'display_data';\n",
              "          await google.colab.output.renderOutput(dataTable, element);\n",
              "          const docLink = document.createElement('div');\n",
              "          docLink.innerHTML = docLinkHtml;\n",
              "          element.appendChild(docLink);\n",
              "        }\n",
              "      </script>\n",
              "    </div>\n",
              "  </div>\n",
              "  "
            ]
          },
          "metadata": {},
          "execution_count": 45
        }
      ]
    },
    {
      "cell_type": "markdown",
      "source": [
        "##### Which hyperparameter optimization technique have you used and why?"
      ],
      "metadata": {
        "id": "_-qAgymDpx6N"
      }
    },
    {
      "cell_type": "markdown",
      "source": [
        "Answer Here."
      ],
      "metadata": {
        "id": "lQMffxkwpx6N"
      }
    },
    {
      "cell_type": "markdown",
      "source": [
        "##### Have you seen any improvement? Note down the improvement with updates Evaluation metric Score Chart."
      ],
      "metadata": {
        "id": "Z-hykwinpx6N"
      }
    },
    {
      "cell_type": "markdown",
      "source": [
        "Answer Here."
      ],
      "metadata": {
        "id": "MzVzZC6opx6N"
      }
    },
    {
      "cell_type": "markdown",
      "source": [
        "### 1. Which Evaluation metrics did you consider for a positive business impact and why?"
      ],
      "metadata": {
        "id": "h_CCil-SKHpo"
      }
    },
    {
      "cell_type": "markdown",
      "source": [
        "Answer Here."
      ],
      "metadata": {
        "id": "jHVz9hHDKFms"
      }
    },
    {
      "cell_type": "markdown",
      "source": [
        "### 2. Which ML model did you choose from the above created models as your final prediction model and why?"
      ],
      "metadata": {
        "id": "cBFFvTBNJzUa"
      }
    },
    {
      "cell_type": "markdown",
      "source": [
        "Answer Here."
      ],
      "metadata": {
        "id": "6ksF5Q1LKTVm"
      }
    },
    {
      "cell_type": "markdown",
      "source": [
        "### 3. Explain the model which you have used and the feature importance using any model explainability tool?"
      ],
      "metadata": {
        "id": "HvGl1hHyA_VK"
      }
    },
    {
      "cell_type": "markdown",
      "source": [
        "Answer Here."
      ],
      "metadata": {
        "id": "YnvVTiIxBL-C"
      }
    },
    {
      "cell_type": "markdown",
      "source": [
        "## ***8.*** ***Future Work (Optional)***"
      ],
      "metadata": {
        "id": "EyNgTHvd2WFk"
      }
    },
    {
      "cell_type": "markdown",
      "source": [
        "### 1. Save the best performing ml model in a pickle file or joblib file format for deployment process.\n"
      ],
      "metadata": {
        "id": "KH5McJBi2d8v"
      }
    },
    {
      "cell_type": "code",
      "source": [
        "# Save the File"
      ],
      "metadata": {
        "id": "bQIANRl32f4J"
      },
      "execution_count": null,
      "outputs": []
    },
    {
      "cell_type": "markdown",
      "source": [
        "### 2. Again Load the saved model file and try to predict unseen data for a sanity check.\n"
      ],
      "metadata": {
        "id": "iW_Lq9qf2h6X"
      }
    },
    {
      "cell_type": "code",
      "source": [
        "# Load the File and predict unseen data."
      ],
      "metadata": {
        "id": "oEXk9ydD2nVC"
      },
      "execution_count": null,
      "outputs": []
    },
    {
      "cell_type": "markdown",
      "source": [
        "### ***Congrats! Your model is successfully created and ready for deployment on a live server for a real user interaction !!!***"
      ],
      "metadata": {
        "id": "-Kee-DAl2viO"
      }
    },
    {
      "cell_type": "markdown",
      "source": [
        "# **Conclusion**"
      ],
      "metadata": {
        "id": "gCX9965dhzqZ"
      }
    },
    {
      "cell_type": "markdown",
      "source": [
        "Write the conclusion here."
      ],
      "metadata": {
        "id": "Fjb1IsQkh3yE"
      }
    },
    {
      "cell_type": "markdown",
      "source": [
        "### ***Hurrah! You have successfully completed your Machine Learning Capstone Project !!!***"
      ],
      "metadata": {
        "id": "gIfDvo9L0UH2"
      }
    }
  ]
}